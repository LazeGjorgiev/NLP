{
 "cells": [
  {
   "cell_type": "code",
   "execution_count": 1,
   "metadata": {},
   "outputs": [],
   "source": [
    "import pandas as pd\n",
    "import os\n",
    "\n",
    "# np.load(\"/content/drive/My Drive/ModelingAllLogs (1)/template2vec_hdfs_logs.npy\",allow_pickle=True)\n",
    "corpus_fake = pd.read_csv(\"../dataset/Fake.csv\")\n",
    "corpus_fake = corpus_fake[[True if len(x) > 60 else False for x in corpus_fake[\"text\"].values]]\n",
    "corpus_true = pd.read_csv(\"../dataset/True.csv\")\n",
    "corpus_true = corpus_true[[True if len(x) > 60 else False for x in corpus_true[\"text\"].values]]"
   ]
  },
  {
   "cell_type": "code",
   "execution_count": 3,
   "metadata": {},
   "outputs": [
    {
     "data": {
      "text/plain": [
       "44024"
      ]
     },
     "execution_count": 3,
     "metadata": {},
     "output_type": "execute_result"
    }
   ],
   "source": [
    "corpus_fake.shape[0] + corpus_true.shape[0]"
   ]
  },
  {
   "cell_type": "code",
   "execution_count": 5,
   "metadata": {},
   "outputs": [
    {
     "data": {
      "text/plain": [
       "22608"
      ]
     },
     "execution_count": 5,
     "metadata": {},
     "output_type": "execute_result"
    }
   ],
   "source": [
    "corpus_fake.shape[0]"
   ]
  },
  {
   "cell_type": "code",
   "execution_count": 6,
   "metadata": {},
   "outputs": [
    {
     "data": {
      "text/plain": [
       "21416"
      ]
     },
     "execution_count": 6,
     "metadata": {},
     "output_type": "execute_result"
    }
   ],
   "source": [
    "corpus_true.shape[0]"
   ]
  },
  {
   "cell_type": "code",
   "execution_count": 7,
   "metadata": {},
   "outputs": [],
   "source": [
    "month_to_number = {\"December\":12,\"November\":11,\"October\":10,\"September\":9,\"August\":8,\"July\":7,\"June\":6,\n",
    "                   \"May\":5,\"April\":3,\"March\":3,\"February\":2,\"January\":1,\"Feb\":2,\"Dec\":12,\"Nov\":11,\"Oct\":10,\n",
    "                   \"Sep\":9,\"Aug\":8,\"Jul\":7,\"Jun\":6,\"Apr\":4,\"Mar\":3,\"Jan\":1}\n",
    "\n",
    "dates = []\n",
    "to_delete= []\n",
    "for i in range(corpus_fake.shape[0]):\n",
    "   t = corpus_fake.date.iloc[i]\n",
    "   try:\n",
    "      if \"-\" in t:\n",
    "        p = pd.to_datetime(t.split(\"-\")[0] +\":\" + str(month_to_number[t.split(\"-\")[1]]) + \":\"+ t.split(\"-\")[-1],format=\"%d:%m:%y\")\n",
    "      else:     \n",
    "        p =pd.to_datetime(t.split(\" \")[1][:-1] +\":\" + str(month_to_number[t.split(\" \")[0]]) + t.split(\",\")[-1],format='%d:%m %Y')\n",
    "      dates.append(p)\n",
    "   except:\n",
    "     to_delete.append(i)\n",
    "for i in to_delete:\n",
    "  corpus_fake.drop(index = i,inplace=True)\n",
    "corpus_fake[\"date\"] = dates\n",
    "\n",
    "dates = []\n",
    "to_delete= []\n",
    "for i in range(corpus_true.shape[0]):\n",
    "    t = corpus_true.date.iloc[i]\n",
    "    try:\n",
    "        if \"-\" in t:\n",
    "            p = pd.to_datetime(t.split(\"-\")[0] +\":\" + str(month_to_number[t.split(\"-\")[1]]) + \":\"+ t.split(\"-\")[-1],format=\"%d:%m:%y\")\n",
    "        else:     \n",
    "            p =pd.to_datetime(t.split(\" \")[1][:-1] +\":\" + str(month_to_number[t.split(\" \")[0]]) + t.split(\",\")[-1][:-1],format='%d:%m %Y')\n",
    "        dates.append(p)\n",
    "    except:\n",
    "        print(i)\n",
    "        to_delete.append(i)\n",
    "for i in to_delete:\n",
    "    corpus_true.drop(index = i,inplace=True)\n",
    "corpus_true[\"date\"] = dates\n"
   ]
  },
  {
   "cell_type": "code",
   "execution_count": 8,
   "metadata": {},
   "outputs": [],
   "source": [
    "fake_news_us_el = corpus_fake[(corpus_fake[\"date\"] > pd.to_datetime('01:01:2016', format='%d:%m:%Y')) & \n",
    "            (corpus_fake[\"date\"] < pd.to_datetime('31:12:2017', format='%d:%m:%Y')) &\n",
    "            (corpus_fake[\"subject\"] == \"politics\")]\n",
    "\n",
    "true_news_us_el = corpus_true[(corpus_true[\"date\"] > pd.to_datetime('07:02:2016', format='%d:%m:%Y')) & \n",
    "            (corpus_true[\"date\"] < pd.to_datetime('01:02:2017', format='%d:%m:%Y')) &\n",
    "            (corpus_true[\"subject\"] == \"politicsNews\")]"
   ]
  },
  {
   "cell_type": "markdown",
   "metadata": {},
   "source": [
    "Data analysis and visualization"
   ]
  },
  {
   "cell_type": "code",
   "execution_count": 9,
   "metadata": {},
   "outputs": [
    {
     "name": "stdout",
     "output_type": "stream",
     "text": [
      "Total fake news 5127\n",
      "Total true news 5125\n"
     ]
    }
   ],
   "source": [
    "print(\"Total fake news \"+str(fake_news_us_el.shape[0]))\n",
    "print(\"Total true news \"+str(true_news_us_el.shape[0]))"
   ]
  },
  {
   "cell_type": "code",
   "execution_count": 10,
   "metadata": {},
   "outputs": [
    {
     "data": {
      "text/html": [
       "<div>\n",
       "<style scoped>\n",
       "    .dataframe tbody tr th:only-of-type {\n",
       "        vertical-align: middle;\n",
       "    }\n",
       "\n",
       "    .dataframe tbody tr th {\n",
       "        vertical-align: top;\n",
       "    }\n",
       "\n",
       "    .dataframe thead th {\n",
       "        text-align: right;\n",
       "    }\n",
       "</style>\n",
       "<table border=\"1\" class=\"dataframe\">\n",
       "  <thead>\n",
       "    <tr style=\"text-align: right;\">\n",
       "      <th></th>\n",
       "      <th>title</th>\n",
       "      <th>text</th>\n",
       "      <th>subject</th>\n",
       "      <th>date</th>\n",
       "    </tr>\n",
       "  </thead>\n",
       "  <tbody>\n",
       "    <tr>\n",
       "      <th>9089</th>\n",
       "      <td>“CONSERVATIVE GAY GUY” BLASTS Pence’s Aspen Ne...</td>\n",
       "      <td>It s been said that good fences make good neig...</td>\n",
       "      <td>politics</td>\n",
       "      <td>2017-12-30</td>\n",
       "    </tr>\n",
       "    <tr>\n",
       "      <th>9090</th>\n",
       "      <td>U2’s LIMOUSINE LIBERAL BONO Proves He’s Cluele...</td>\n",
       "      <td>This would be a laugh a minute except for the ...</td>\n",
       "      <td>politics</td>\n",
       "      <td>2017-12-30</td>\n",
       "    </tr>\n",
       "    <tr>\n",
       "      <th>9091</th>\n",
       "      <td>BILL NYE The FAKE Science Guy THREATENS Conser...</td>\n",
       "      <td>Friday on MSNBC, climate activist Bill Nye war...</td>\n",
       "      <td>politics</td>\n",
       "      <td>2017-12-30</td>\n",
       "    </tr>\n",
       "    <tr>\n",
       "      <th>9092</th>\n",
       "      <td>JUST IN: TRUMP ENDS FREE MONEY TRAIN After Pak...</td>\n",
       "      <td>The Trump administration on Friday announced t...</td>\n",
       "      <td>politics</td>\n",
       "      <td>2017-12-30</td>\n",
       "    </tr>\n",
       "    <tr>\n",
       "      <th>9093</th>\n",
       "      <td>EMBARRASSING: Anti-Trump “THE HILL” Gets SLAMM...</td>\n",
       "      <td>#JokeNewsAfter record, cold temperatures were ...</td>\n",
       "      <td>politics</td>\n",
       "      <td>2017-12-30</td>\n",
       "    </tr>\n",
       "  </tbody>\n",
       "</table>\n",
       "</div>"
      ],
      "text/plain": [
       "                                                  title  \\\n",
       "9089  “CONSERVATIVE GAY GUY” BLASTS Pence’s Aspen Ne...   \n",
       "9090  U2’s LIMOUSINE LIBERAL BONO Proves He’s Cluele...   \n",
       "9091  BILL NYE The FAKE Science Guy THREATENS Conser...   \n",
       "9092  JUST IN: TRUMP ENDS FREE MONEY TRAIN After Pak...   \n",
       "9093  EMBARRASSING: Anti-Trump “THE HILL” Gets SLAMM...   \n",
       "\n",
       "                                                   text   subject       date  \n",
       "9089  It s been said that good fences make good neig...  politics 2017-12-30  \n",
       "9090  This would be a laugh a minute except for the ...  politics 2017-12-30  \n",
       "9091  Friday on MSNBC, climate activist Bill Nye war...  politics 2017-12-30  \n",
       "9092  The Trump administration on Friday announced t...  politics 2017-12-30  \n",
       "9093  #JokeNewsAfter record, cold temperatures were ...  politics 2017-12-30  "
      ]
     },
     "execution_count": 10,
     "metadata": {},
     "output_type": "execute_result"
    }
   ],
   "source": [
    "fake_news_us_el.head()"
   ]
  },
  {
   "cell_type": "code",
   "execution_count": 11,
   "metadata": {},
   "outputs": [],
   "source": [
    "import re\n",
    "from nltk import ngrams\n",
    "from nltk.tokenize import RegexpTokenizer\n",
    "from nltk.stem import WordNetLemmatizer\n",
    "from nltk.corpus import stopwords\n",
    "lemmetizer = WordNetLemmatizer()\n",
    "tokenizer = RegexpTokenizer(r\"\\w+\")\n",
    "\n",
    "text_prepared_fake_title = []\n",
    "for t in fake_news_us_el.title.values.tolist():\n",
    "    v= []\n",
    "    for w in tokenizer.tokenize(t):\n",
    "        w_lem = lemmetizer.lemmatize(w.lower())\n",
    "        if not w_lem.isdigit() and w_lem not in stopwords.words('english') and not bool(re.search(r'\\d', w_lem)):\n",
    "            v.append(w_lem)\n",
    "    text_prepared_fake_title.append(v)\n",
    "    \n",
    "text_prepared_true_titles = []\n",
    "for t in true_news_us_el.title.values.tolist():\n",
    "    v= []\n",
    "    for w in tokenizer.tokenize(t):\n",
    "        w_lem = lemmetizer.lemmatize(w.lower())\n",
    "        if not w_lem.isdigit() and w_lem not in stopwords.words('english') and not bool(re.search(r'\\d', w_lem)):\n",
    "            v.append(w_lem)\n",
    "    text_prepared_true_titles.append(v)"
   ]
  },
  {
   "cell_type": "markdown",
   "metadata": {},
   "source": [
    "<h1>Sequence lenght determination</h1>"
   ]
  },
  {
   "cell_type": "code",
   "execution_count": 12,
   "metadata": {},
   "outputs": [],
   "source": [
    "documents_lenghts_true = []\n",
    "for t in text_prepared_true_titles:\n",
    "    documents_lenghts_true.append(len(t))\n",
    "\n",
    "    \n",
    "documents_lenghts_fake = []\n",
    "for t in text_prepared_fake_title:\n",
    "    documents_lenghts_fake.append(len(t))   \n",
    "\n",
    "documents_lenghts = documents_lenghts_true + documents_lenghts_fake\n",
    "  \n",
    "# for i in range(0,min(len(documents_lenghts_true),len(documents_lenghts_fake))):  \n",
    "# #     documents_lenghts.append(documents_lenghts_true[i] + documents_lenghts_fake[i])"
   ]
  },
  {
   "cell_type": "code",
   "execution_count": 13,
   "metadata": {},
   "outputs": [
    {
     "data": {
      "image/png": "[encoded data removed]",
      "text/plain": [
       "<Figure size 1440x576 with 1 Axes>"
      ]
     },
     "metadata": {
      "needs_background": "light"
     },
     "output_type": "display_data"
    }
   ],
   "source": [
    "import numpy as np\n",
    "import matplotlib.pyplot as plt\n",
    "\n",
    "_ = plt.figure(figsize = (20,8))\n",
    "plt.hist(documents_lenghts, bins=[0,5,10,15,20,25,30,40,50])\n",
    "plt.xticks(np.arange(min(documents_lenghts), max(documents_lenghts)+1, 5.0))\n",
    "plt.show()"
   ]
  },
  {
   "cell_type": "code",
   "execution_count": 20,
   "metadata": {},
   "outputs": [
    {
     "data": {
      "text/plain": [
       "[]"
      ]
     },
     "execution_count": 20,
     "metadata": {},
     "output_type": "execute_result"
    }
   ],
   "source": [
    "documents_lenghts_fake"
   ]
  },
  {
   "cell_type": "code",
   "execution_count": 14,
   "metadata": {},
   "outputs": [
    {
     "data": {
      "image/png": "[encoded data removed]",
      "text/plain": [
       "<Figure size 1440x576 with 1 Axes>"
      ]
     },
     "metadata": {
      "needs_background": "light"
     },
     "output_type": "display_data"
    }
   ],
   "source": [
    "import numpy as np\n",
    "import matplotlib.pyplot as plt\n",
    "\n",
    "_ = plt.figure(figsize = (20,8))\n",
    "plt.hist(documents_lenghts_fake, bins=[0,5,10,15,20,25,30,40,50])\n",
    "plt.xticks(np.arange(min(documents_lenghts_fake), max(documents_lenghts_fake)+1, 5.0))\n",
    "plt.show()"
   ]
  },
  {
   "cell_type": "code",
   "execution_count": 15,
   "metadata": {},
   "outputs": [
    {
     "data": {
      "image/png": "[encoded data removed]",
      "text/plain": [
       "<Figure size 1440x576 with 1 Axes>"
      ]
     },
     "metadata": {
      "needs_background": "light"
     },
     "output_type": "display_data"
    }
   ],
   "source": [
    "import numpy as np\n",
    "import matplotlib.pyplot as plt\n",
    "\n",
    "_ = plt.figure(figsize = (20,8))\n",
    "plt.hist(documents_lenghts_true, bins=[0,5,10,15,20,25,30,40,50])\n",
    "plt.xticks(np.arange(min(documents_lenghts_true), max(documents_lenghts_true)+1, 5.0))\n",
    "plt.show()"
   ]
  },
  {
   "cell_type": "code",
   "execution_count": 16,
   "metadata": {},
   "outputs": [
    {
     "name": "stdout",
     "output_type": "stream",
     "text": [
      "7.895414634146341\n",
      "8\n",
      "1.3121320527258238\n"
     ]
    }
   ],
   "source": [
    "import statistics as stat\n",
    "\n",
    "print(stat.mean(documents_lenghts_true))\n",
    "print(stat.median(documents_lenghts_true))\n",
    "print(stat.stdev(documents_lenghts_true))"
   ]
  },
  {
   "cell_type": "code",
   "execution_count": 30,
   "metadata": {},
   "outputs": [
    {
     "data": {
      "text/plain": [
       "9.0"
      ]
     },
     "execution_count": 30,
     "metadata": {},
     "output_type": "execute_result"
    }
   ],
   "source": [
    "np.quantile(documents_lenghts_true,q=0.75)"
   ]
  },
  {
   "cell_type": "code",
   "execution_count": 17,
   "metadata": {},
   "outputs": [
    {
     "name": "stdout",
     "output_type": "stream",
     "text": [
      "12.078213380144334\n",
      "12\n",
      "3.5812196124116586\n"
     ]
    }
   ],
   "source": [
    "print(stat.mean(documents_lenghts_fake))\n",
    "print(stat.median(documents_lenghts_fake))\n",
    "print(stat.stdev(documents_lenghts_fake))"
   ]
  },
  {
   "cell_type": "code",
   "execution_count": 18,
   "metadata": {},
   "outputs": [
    {
     "data": {
      "text/plain": [
       "9.987222005462348"
      ]
     },
     "execution_count": 18,
     "metadata": {},
     "output_type": "execute_result"
    }
   ],
   "source": [
    "stat.mean(documents_lenghts)"
   ]
  },
  {
   "cell_type": "code",
   "execution_count": 19,
   "metadata": {},
   "outputs": [
    {
     "data": {
      "text/plain": [
       "9.0"
      ]
     },
     "execution_count": 19,
     "metadata": {},
     "output_type": "execute_result"
    }
   ],
   "source": [
    "stat.median(documents_lenghts)"
   ]
  },
  {
   "cell_type": "code",
   "execution_count": 20,
   "metadata": {},
   "outputs": [
    {
     "data": {
      "text/plain": [
       "12.0"
      ]
     },
     "execution_count": 20,
     "metadata": {},
     "output_type": "execute_result"
    }
   ],
   "source": [
    "import numpy as np\n",
    "np.quantile(documents_lenghts,q=0.75)"
   ]
  },
  {
   "cell_type": "code",
   "execution_count": 68,
   "metadata": {},
   "outputs": [
    {
     "data": {
      "text/plain": [
       "155.0"
      ]
     },
     "execution_count": 68,
     "metadata": {},
     "output_type": "execute_result"
    }
   ],
   "source": [
    "import numpy as np\n",
    "np.quantile(documents_lenghts,q=0.25)"
   ]
  },
  {
   "cell_type": "code",
   "execution_count": 21,
   "metadata": {},
   "outputs": [],
   "source": [
    "std = stat.stdev(documents_lenghts)"
   ]
  },
  {
   "cell_type": "code",
   "execution_count": 29,
   "metadata": {},
   "outputs": [
    {
     "data": {
      "text/plain": [
       "13.0"
      ]
     },
     "execution_count": 29,
     "metadata": {},
     "output_type": "execute_result"
    }
   ],
   "source": [
    "boundary"
   ]
  },
  {
   "cell_type": "code",
   "execution_count": 38,
   "metadata": {},
   "outputs": [
    {
     "name": "stdout",
     "output_type": "stream",
     "text": [
      "Percetage of texts that has fewer of 11 words -all data --- 74.51229028482247\n",
      "Percetage of texts that has fewer of 11 words - fake corpus --- 49.463623951628634\n",
      "Percetage of texts that has fewer of 11 words - true corpus --- 99.57073170731708\n"
     ]
    }
   ],
   "source": [
    "# boundary = 324 + std*0.79\n",
    "# boundary = np.quantile(documents_lenghts,q=0.8)\n",
    "boundary = 11\n",
    "print(f\"Percetage of texts that has fewer of {boundary} words -all data --- {len([x for x in documents_lenghts if x <= boundary])*100/len(documents_lenghts)}\")\n",
    "print(f\"Percetage of texts that has fewer of {boundary} words - fake corpus --- {len([x for x in documents_lenghts_fake if x <= boundary])*100/len(documents_lenghts_fake)}\")\n",
    "print(f\"Percetage of texts that has fewer of {boundary} words - true corpus --- {len([x for x in documents_lenghts_true if x <= boundary])*100/len(documents_lenghts_true)}\")"
   ]
  },
  {
   "cell_type": "code",
   "execution_count": 39,
   "metadata": {},
   "outputs": [
    {
     "name": "stdout",
     "output_type": "stream",
     "text": [
      "Percetage of texts that has more than 11 words -all data --- 25.487709715177527\n",
      "Percetage of texts that has more than 11 words - fake corpus --- 50.536376048371366\n",
      "Percetage of texts that has more than 11 words - true corpus --- 0.4292682926829268\n"
     ]
    }
   ],
   "source": [
    "boundary = np.quantile(documents_lenghts,q=0.8)\n",
    "boundary = 11\n",
    "\n",
    "\n",
    "print(f\"Percetage of texts that has more than {boundary} words -all data --- {len([x for x in documents_lenghts if x > boundary])*100/len(documents_lenghts)}\")\n",
    "print(f\"Percetage of texts that has more than {boundary} words - fake corpus --- {len([x for x in documents_lenghts_fake if x > boundary])*100/len(documents_lenghts_fake)}\")\n",
    "print(f\"Percetage of texts that has more than {boundary} words - true corpus --- {len([x for x in documents_lenghts_true if x > boundary])*100/len(documents_lenghts_true)}\")"
   ]
  },
  {
   "cell_type": "code",
   "execution_count": 40,
   "metadata": {},
   "outputs": [
    {
     "data": {
      "text/plain": [
       "11"
      ]
     },
     "execution_count": 40,
     "metadata": {},
     "output_type": "execute_result"
    }
   ],
   "source": [
    "official_lenght = int(boundary)\n",
    "official_lenght"
   ]
  },
  {
   "cell_type": "markdown",
   "metadata": {},
   "source": [
    "<h1>Map word sequences to index sequences</h1>"
   ]
  },
  {
   "cell_type": "markdown",
   "metadata": {},
   "source": [
    "Every word in the sequence is mapped to It's corresponding index or token ID in the given vocabulary (Word2Vec) "
   ]
  },
  {
   "cell_type": "code",
   "execution_count": 41,
   "metadata": {},
   "outputs": [],
   "source": [
    "all_titles = text_prepared_fake_title + text_prepared_true_titles\n",
    "# labels = [1]*len(text_prepared_fake) + [0]*len(text_prepared_true)"
   ]
  },
  {
   "cell_type": "code",
   "execution_count": 25,
   "metadata": {},
   "outputs": [],
   "source": [
    "save_pickle_file(labels,\"./labels\")\n",
    "# labels = load_pickle_file(\"labels\")"
   ]
  },
  {
   "cell_type": "code",
   "execution_count": 43,
   "metadata": {},
   "outputs": [
    {
     "data": {
      "text/plain": [
       "'/home/gorgiev_laze/NLP/Modeling/WithTitles'"
      ]
     },
     "execution_count": 43,
     "metadata": {},
     "output_type": "execute_result"
    }
   ],
   "source": [
    "os.getcwd()"
   ]
  },
  {
   "cell_type": "code",
   "execution_count": 87,
   "metadata": {
    "collapsed": true,
    "jupyter": {
     "outputs_hidden": true
    }
   },
   "outputs": [
    {
     "name": "stdout",
     "output_type": "stream",
     "text": [
      "\u001b[33mThe directory '/home/gorgiev_laze/.cache/pip/http' or its parent directory is not owned by the current user and the cache has been disabled. Please check the permissions and owner of that directory. If executing pip with sudo, you may want sudo's -H flag.\u001b[0m\n",
      "\u001b[33mThe directory '/home/gorgiev_laze/.cache/pip' or its parent directory is not owned by the current user and caching wheels has been disabled. check the permissions and owner of that directory. If executing pip with sudo, you may want sudo's -H flag.\u001b[0m\n",
      "Collecting gensim\n",
      "  Downloading https://files.pythonhosted.org/packages/2b/e0/fa6326251692056dc880a64eb22117e03269906ba55a6864864d24ec8b4e/gensim-3.8.3-cp36-cp36m-manylinux1_x86_64.whl (24.2MB)\n",
      "\u001b[K    100% |████████████████████████████████| 24.2MB 45kB/s  eta 0:00:01\n",
      "\u001b[?25hRequirement already satisfied: scipy>=0.18.1 in /usr/local/lib/python3.6/dist-packages (from gensim)\n",
      "Requirement already satisfied: six>=1.5.0 in /usr/lib/python3/dist-packages (from gensim)\n",
      "Collecting smart-open>=1.8.1 (from gensim)\n",
      "  Downloading https://files.pythonhosted.org/packages/0b/8e/464b06f5efd26f2dc16ce7bd1662c2f31cadf9104fdbcbf5994674cc3a51/smart_open-2.1.0.tar.gz (116kB)\n",
      "\u001b[K    100% |████████████████████████████████| 122kB 10.1MB/s ta 0:00:01\n",
      "\u001b[?25hRequirement already satisfied: numpy>=1.11.3 in /usr/local/lib/python3.6/dist-packages (from gensim)\n",
      "Collecting boto (from smart-open>=1.8.1->gensim)\n",
      "  Downloading https://files.pythonhosted.org/packages/23/10/c0b78c27298029e4454a472a1919bde20cb182dab1662cec7f2ca1dcc523/boto-2.49.0-py2.py3-none-any.whl (1.4MB)\n",
      "\u001b[K    100% |████████████████████████████████| 1.4MB 962kB/s eta 0:00:01\n",
      "\u001b[?25hCollecting boto3 (from smart-open>=1.8.1->gensim)\n",
      "  Downloading https://files.pythonhosted.org/packages/c9/a5/e06492d12da34135728559aa18ba6bc841a82cea5a5b3bcbb643ea2dbe07/boto3-1.14.19-py2.py3-none-any.whl (128kB)\n",
      "\u001b[K    100% |████████████████████████████████| 133kB 9.5MB/s eta 0:00:01\n",
      "\u001b[?25hRequirement already satisfied: requests in /usr/lib/python3/dist-packages (from smart-open>=1.8.1->gensim)\n",
      "Collecting jmespath<1.0.0,>=0.7.1 (from boto3->smart-open>=1.8.1->gensim)\n",
      "  Downloading https://files.pythonhosted.org/packages/07/cb/5f001272b6faeb23c1c9e0acc04d48eaaf5c862c17709d20e3469c6e0139/jmespath-0.10.0-py2.py3-none-any.whl\n",
      "Collecting s3transfer<0.4.0,>=0.3.0 (from boto3->smart-open>=1.8.1->gensim)\n",
      "  Downloading https://files.pythonhosted.org/packages/69/79/e6afb3d8b0b4e96cefbdc690f741d7dd24547ff1f94240c997a26fa908d3/s3transfer-0.3.3-py2.py3-none-any.whl (69kB)\n",
      "\u001b[K    100% |████████████████████████████████| 71kB 10.2MB/s ta 0:00:01\n",
      "\u001b[?25hCollecting botocore<1.18.0,>=1.17.19 (from boto3->smart-open>=1.8.1->gensim)\n",
      "  Downloading https://files.pythonhosted.org/packages/e4/33/60eb84ff5dfb26a0c3ae606ba42686f23e9fd5038afddd5882d37623d589/botocore-1.17.19-py2.py3-none-any.whl (6.3MB)\n",
      "\u001b[K    100% |████████████████████████████████| 6.3MB 209kB/s eta 0:00:01\n",
      "\u001b[?25hRequirement already satisfied: urllib3<1.26,>=1.20; python_version != \"3.4\" in /usr/lib/python3/dist-packages (from botocore<1.18.0,>=1.17.19->boto3->smart-open>=1.8.1->gensim)\n",
      "Requirement already satisfied: python-dateutil<3.0.0,>=2.1 in /usr/local/lib/python3.6/dist-packages (from botocore<1.18.0,>=1.17.19->boto3->smart-open>=1.8.1->gensim)\n",
      "Collecting docutils<0.16,>=0.10 (from botocore<1.18.0,>=1.17.19->boto3->smart-open>=1.8.1->gensim)\n",
      "  Downloading https://files.pythonhosted.org/packages/22/cd/a6aa959dca619918ccb55023b4cb151949c64d4d5d55b3f4ffd7eee0c6e8/docutils-0.15.2-py3-none-any.whl (547kB)\n",
      "\u001b[K    100% |████████████████████████████████| 552kB 2.4MB/s eta 0:00:01\n",
      "\u001b[?25hInstalling collected packages: boto, jmespath, docutils, botocore, s3transfer, boto3, smart-open, gensim\n",
      "  Running setup.py install for smart-open ... \u001b[?25ldone\n",
      "\u001b[?25hSuccessfully installed boto-2.49.0 boto3-1.14.19 botocore-1.17.19 docutils-0.15.2 gensim-3.8.3 jmespath-0.10.0 s3transfer-0.3.3 smart-open-2.1.0\n"
     ]
    }
   ],
   "source": [
    "!pip3 install gensim"
   ]
  },
  {
   "cell_type": "code",
   "execution_count": 44,
   "metadata": {},
   "outputs": [],
   "source": [
    "from gensim.models import Word2Vec\n",
    "from gensim.models import KeyedVectors\n",
    "\n",
    "# word2vec = KeyedVectors.load_word2vec_format('../../new_disk/GoogleNews-vectors-negative300.bin', binary=True)\n",
    "new_model_w2v = KeyedVectors.load_word2vec_format(\"../../../new_disk/updatedWord2Vec.bin\",binary=True)"
   ]
  },
  {
   "cell_type": "code",
   "execution_count": 45,
   "metadata": {},
   "outputs": [
    {
     "data": {
      "text/plain": [
       "3000440"
      ]
     },
     "execution_count": 45,
     "metadata": {},
     "output_type": "execute_result"
    }
   ],
   "source": [
    "len(new_model_w2v.vocab)"
   ]
  },
  {
   "cell_type": "code",
   "execution_count": 46,
   "metadata": {},
   "outputs": [],
   "source": [
    "not_in_wv = set()\n",
    "for sentence in all_titles:\n",
    "    for w in sentence:\n",
    "        if w not in new_model_w2v.vocab:\n",
    "            not_in_wv.add(w)\n"
   ]
  },
  {
   "cell_type": "code",
   "execution_count": 47,
   "metadata": {},
   "outputs": [
    {
     "data": {
      "text/plain": [
       "782"
      ]
     },
     "execution_count": 47,
     "metadata": {},
     "output_type": "execute_result"
    }
   ],
   "source": [
    "len(not_in_wv)"
   ]
  },
  {
   "cell_type": "code",
   "execution_count": 48,
   "metadata": {},
   "outputs": [],
   "source": [
    "from nltk.corpus import words\n",
    "existing_words = []\n",
    "non_existing_words = []\n",
    "i=0\n",
    "for w in not_in_wv:\n",
    "    if w in words.words():\n",
    "        existing_words.append(w)\n",
    "    else:\n",
    "        non_existing_words.append(w)"
   ]
  },
  {
   "cell_type": "code",
   "execution_count": 49,
   "metadata": {},
   "outputs": [
    {
     "name": "stdout",
     "output_type": "stream",
     "text": [
      "1\n"
     ]
    },
    {
     "data": {
      "text/plain": [
       "781"
      ]
     },
     "execution_count": 49,
     "metadata": {},
     "output_type": "execute_result"
    }
   ],
   "source": [
    "print(len(set(existing_words)))\n",
    "len(set(non_existing_words))"
   ]
  },
  {
   "cell_type": "code",
   "execution_count": 50,
   "metadata": {},
   "outputs": [
    {
     "data": {
      "text/plain": [
       "['gump']"
      ]
     },
     "execution_count": 50,
     "metadata": {},
     "output_type": "execute_result"
    }
   ],
   "source": [
    "existing_words"
   ]
  },
  {
   "cell_type": "markdown",
   "metadata": {},
   "source": [
    "Because it's pointless to update the Word2Vec model for just 4 words, we will consider them as unknown words"
   ]
  },
  {
   "cell_type": "code",
   "execution_count": 51,
   "metadata": {},
   "outputs": [],
   "source": [
    "non_existing_words = set(non_existing_words).union(set(existing_words))"
   ]
  },
  {
   "cell_type": "markdown",
   "metadata": {},
   "source": [
    "the non-existing words will be replaced with the word 'unknown_word' and will be represented as vector(unknown) + vector(word)"
   ]
  },
  {
   "cell_type": "code",
   "execution_count": 52,
   "metadata": {},
   "outputs": [],
   "source": [
    "all_titles_repl = []\n",
    "i=0\n",
    "for seq in all_titles:\n",
    "    i+=1\n",
    "    new_seq = []\n",
    "    for x in seq[:official_lenght]:\n",
    "        if x not in non_existing_words:\n",
    "            new_seq.append(x)\n",
    "        else:\n",
    "            new_seq.append(\"unknown_word\")\n",
    "    all_titles_repl.append(new_seq)\n",
    "    \n",
    "# [[x if x not in non_existing_words else 'unknown_word' for x in l[:official_lenght]] for l in all_text]"
   ]
  },
  {
   "cell_type": "code",
   "execution_count": 55,
   "metadata": {},
   "outputs": [],
   "source": [
    "# all_text_repl = load_pickle_file(\"text_data_prepared.pkl\")\n",
    "save_pickle_file(all_titles_repl,\"./titles_data_prepared.pkl\")"
   ]
  },
  {
   "cell_type": "code",
   "execution_count": 6,
   "metadata": {},
   "outputs": [],
   "source": [
    "unknown_word_vector_repr = word2vec.get_vector('unknown') + word2vec.get_vector('word')\n",
    "v1 = word2vec.get_vector('unknown')\n",
    "v2 = word2vec.get_vector('word')"
   ]
  },
  {
   "cell_type": "code",
   "execution_count": 8,
   "metadata": {},
   "outputs": [],
   "source": [
    "new_model_w2v.wv.save_word2vec_format(\"./word2vecUpdateModel/updatedWord2Vec.bin\",binary=True)"
   ]
  },
  {
   "cell_type": "markdown",
   "metadata": {},
   "source": [
    "<h2>Create embeding matrix</h2>"
   ]
  },
  {
   "cell_type": "code",
   "execution_count": 34,
   "metadata": {},
   "outputs": [
    {
     "name": "stderr",
     "output_type": "stream",
     "text": [
      "/usr/local/lib/python3.6/dist-packages/ipykernel_launcher.py:5: DeprecationWarning: Call to deprecated `wv` (Attribute will be removed in 4.0.0, use self instead).\n",
      "  \"\"\"\n",
      "/usr/local/lib/python3.6/dist-packages/ipykernel_launcher.py:12: DeprecationWarning: Call to deprecated `wv` (Attribute will be removed in 4.0.0, use self instead).\n",
      "  if sys.path[0] == '':\n"
     ]
    }
   ],
   "source": [
    "#since there are no new words in the vocab there is no need for new embedding matrix, we can use the one created while \n",
    "#pre-processing of the news text data\n",
    "import numpy as np\n",
    "#creating empty word2index dictionary\n",
    "word2index = {}\n",
    "#creating empty embeding matrix\n",
    "vocab = new_model_w2v.wv.vocab\n",
    "\n",
    "embeding_matrix = np.zeros((len(vocab)+1,300))\n",
    "\n",
    "#filling the embeding matrix and word2index dictionary\n",
    "for idx,word in enumerate(list(vocab.keys())):\n",
    "    word2index[word] = idx\n",
    "    embeding_matrix[idx] = new_model_w2v.wv.get_vector(word)"
   ]
  },
  {
   "cell_type": "code",
   "execution_count": 35,
   "metadata": {},
   "outputs": [],
   "source": [
    "padding_value = len(embeding_matrix)-1\n",
    "#dummy vector for the padding value = 3001066\n",
    "embeding_matrix[padding_value] = np.zeros(300)"
   ]
  },
  {
   "cell_type": "code",
   "execution_count": 36,
   "metadata": {},
   "outputs": [
    {
     "data": {
      "text/plain": [
       "3001066"
      ]
     },
     "execution_count": 36,
     "metadata": {},
     "output_type": "execute_result"
    }
   ],
   "source": [
    "padding_value"
   ]
  },
  {
   "cell_type": "code",
   "execution_count": 37,
   "metadata": {},
   "outputs": [],
   "source": [
    "#save embeding matrix and word2index (we do not need anymore word2vec so it does not need to be loaded in memory)\n",
    "save_pickle_file(word2index,\"./WithTittles/word2index_titles\")\n",
    "save_pickle_file(embeding_matrix,\"./WithTittles/embeding_matrix\",protocol = 4)\n",
    "# del word2vec\n",
    "del new_model_w2v"
   ]
  },
  {
   "cell_type": "code",
   "execution_count": 57,
   "metadata": {},
   "outputs": [],
   "source": [
    "word2index = load_pickle_file(\"../../../new_disk/word2index\")\n",
    "embeding_matrix = load_pickle_file(\"../../../new_disk/embeding_matrix\",protocol = 4)"
   ]
  },
  {
   "cell_type": "code",
   "execution_count": 59,
   "metadata": {},
   "outputs": [
    {
     "data": {
      "text/plain": [
       "3000441"
      ]
     },
     "execution_count": 59,
     "metadata": {},
     "output_type": "execute_result"
    }
   ],
   "source": [
    "len(embeding_matrix)"
   ]
  },
  {
   "cell_type": "markdown",
   "metadata": {},
   "source": [
    "<h2>Map sequences of words to sequences of indexes</h2>"
   ]
  },
  {
   "cell_type": "code",
   "execution_count": 61,
   "metadata": {},
   "outputs": [],
   "source": [
    "index_sequences = []\n",
    "for sequence in all_titles_repl:\n",
    "    new_sequence = []\n",
    "    for w in sequence:\n",
    "        new_sequence.append(word2index[w])\n",
    "    index_sequences.append(np.array(new_sequence))\n",
    "save_pickle_file(index_sequences,\"./index_sequences_titles.pkl\")"
   ]
  },
  {
   "cell_type": "code",
   "execution_count": 54,
   "metadata": {},
   "outputs": [],
   "source": [
    "import pickle\n",
    "def save_pickle_file(file,file_path,protocol=None):\n",
    "    with open(file_path,\"wb\") as f:\n",
    "        if protocol:\n",
    "            pickle.dump(file,f,protocol = protocol)\n",
    "        else:\n",
    "            pickle.dump(file,f)\n",
    "\n",
    "def load_pickle_file(file_path, protocol=None):\n",
    "     with open(file_path,\"rb\") as f:\n",
    "        if protocol:\n",
    "            return pickle.load(f)\n",
    "        else:\n",
    "            return pickle.load(f)\n"
   ]
  }
 ],
 "metadata": {
  "kernelspec": {
   "display_name": "Python 3",
   "language": "python",
   "name": "python3"
  },
  "language_info": {
   "codemirror_mode": {
    "name": "ipython",
    "version": 3
   },
   "file_extension": ".py",
   "mimetype": "text/x-python",
   "name": "python",
   "nbconvert_exporter": "python",
   "pygments_lexer": "ipython3",
   "version": "3.6.9"
  }
 },
 "nbformat": 4,
 "nbformat_minor": 4
}
