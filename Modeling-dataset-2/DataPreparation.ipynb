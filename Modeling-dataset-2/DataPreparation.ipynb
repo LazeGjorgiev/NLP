{
 "cells": [
  {
   "cell_type": "code",
   "execution_count": 18,
   "metadata": {},
   "outputs": [],
   "source": [
    "import pandas as pd\n",
    "\n",
    "# np.load(\"/content/drive/My Drive/ModelingAllLogs (1)/template2vec_hdfs_logs.npy\",allow_pickle=True)\n",
    "corpus = pd.read_csv(\"./dataset/all_data.csv\")\n",
    "corpus = corpus[[True if len(x) > 80 else False for x in corpus[\"text\"].values]]\n"
   ]
  },
  {
   "cell_type": "code",
   "execution_count": 10,
   "metadata": {},
   "outputs": [
    {
     "data": {
      "text/plain": [
       "array(['english', 'german', 'french', 'spanish', 'russian', 'greek',\n",
       "       'finnish', 'portuguese', 'arabic', 'dutch', 'italian', 'turkish',\n",
       "       'ignore', 'norwegian', 'chinese', 'polish', nan], dtype=object)"
      ]
     },
     "execution_count": 10,
     "metadata": {},
     "output_type": "execute_result"
    }
   ],
   "source": [
    "corpus[\"language\"].unique()"
   ]
  },
  {
   "cell_type": "code",
   "execution_count": 20,
   "metadata": {},
   "outputs": [
    {
     "data": {
      "text/plain": [
       "(15831, 54)"
      ]
     },
     "execution_count": 20,
     "metadata": {},
     "output_type": "execute_result"
    }
   ],
   "source": [
    "corpus_english = corpus[corpus[\"language\"] == \"english\"]\n",
    "corpus_english.shape"
   ]
  },
  {
   "cell_type": "code",
   "execution_count": 20,
   "metadata": {},
   "outputs": [
    {
     "data": {
      "text/plain": [
       "Index(['Unnamed: 0', 'Unnamed: 0.1', 'author', 'comments', 'country',\n",
       "       'crawled', 'domain_rank', 'id', 'language', 'likes', 'main_img_url',\n",
       "       'ord_in_thread', 'participants_count', 'published', 'replies_count',\n",
       "       'shares', 'site_url', 'spam_score', 'text', 'thread_title', 'title',\n",
       "       'type', 'uuid', 'caps_title', 'caps_thread', 'caps_text', 'title_len',\n",
       "       'thread_len', 'text_len', 'excl_title', 'excl_thread', 'excl_text',\n",
       "       'first_title', 'first_thread', 'first_text', 'second_title',\n",
       "       'second_thread', 'second_text', 'third_title', 'third_thread',\n",
       "       'third_text', 'anger', 'anticipation', 'disgust', 'fear', 'joy',\n",
       "       'sadness', 'surprise', 'trust', 'negative', 'positive', 'first_all',\n",
       "       'second_all', 'third_all'],\n",
       "      dtype='object')"
      ]
     },
     "execution_count": 20,
     "metadata": {},
     "output_type": "execute_result"
    }
   ],
   "source": [
    "corpus_english.columns"
   ]
  },
  {
   "cell_type": "code",
   "execution_count": 33,
   "metadata": {},
   "outputs": [
    {
     "data": {
      "text/plain": [
       "array(['real', 'fake'], dtype=object)"
      ]
     },
     "execution_count": 33,
     "metadata": {},
     "output_type": "execute_result"
    }
   ],
   "source": [
    "corpus_english.type.unique()"
   ]
  },
  {
   "cell_type": "code",
   "execution_count": 21,
   "metadata": {},
   "outputs": [
    {
     "data": {
      "text/html": [
       "<div>\n",
       "<style scoped>\n",
       "    .dataframe tbody tr th:only-of-type {\n",
       "        vertical-align: middle;\n",
       "    }\n",
       "\n",
       "    .dataframe tbody tr th {\n",
       "        vertical-align: top;\n",
       "    }\n",
       "\n",
       "    .dataframe thead th {\n",
       "        text-align: right;\n",
       "    }\n",
       "</style>\n",
       "<table border=\"1\" class=\"dataframe\">\n",
       "  <thead>\n",
       "    <tr style=\"text-align: right;\">\n",
       "      <th></th>\n",
       "      <th>title</th>\n",
       "      <th>text</th>\n",
       "      <th>type</th>\n",
       "    </tr>\n",
       "  </thead>\n",
       "  <tbody>\n",
       "    <tr>\n",
       "      <th>0</th>\n",
       "      <td>At Donald Trump&lt;U+2019&gt;s Properties, a Showcas...</td>\n",
       "      <td>They stood in line at Trump Tower, sometimes u...</td>\n",
       "      <td>real</td>\n",
       "    </tr>\n",
       "    <tr>\n",
       "      <th>1</th>\n",
       "      <td>Trump Foundation Tells New York It Has Stopped...</td>\n",
       "      <td>Donald J. Trump &lt;U+2019&gt;s foundation informed ...</td>\n",
       "      <td>real</td>\n",
       "    </tr>\n",
       "  </tbody>\n",
       "</table>\n",
       "</div>"
      ],
      "text/plain": [
       "                                               title  \\\n",
       "0  At Donald Trump<U+2019>s Properties, a Showcas...   \n",
       "1  Trump Foundation Tells New York It Has Stopped...   \n",
       "\n",
       "                                                text  type  \n",
       "0  They stood in line at Trump Tower, sometimes u...  real  \n",
       "1  Donald J. Trump <U+2019>s foundation informed ...  real  "
      ]
     },
     "execution_count": 21,
     "metadata": {},
     "output_type": "execute_result"
    }
   ],
   "source": [
    "#we will use only the columns: text, title,type\n",
    "corpus_news_att_filtered = corpus_english[[\"title\",\"text\",\"type\"]]\n",
    "corpus_news_att_filtered.head(2)"
   ]
  },
  {
   "cell_type": "code",
   "execution_count": 22,
   "metadata": {},
   "outputs": [],
   "source": [
    "fake_news_us_el = corpus_news_att_filtered[corpus_news_att_filtered.type == \"fake\"]\n",
    "true_news_us_el = corpus_news_att_filtered[corpus_news_att_filtered.type == \"real\"]\n"
   ]
  },
  {
   "cell_type": "markdown",
   "metadata": {},
   "source": [
    "Data analysis and visualization"
   ]
  },
  {
   "cell_type": "code",
   "execution_count": 29,
   "metadata": {},
   "outputs": [
    {
     "name": "stdout",
     "output_type": "stream",
     "text": [
      "Total fake news 10955\n",
      "Total true news 4876\n"
     ]
    }
   ],
   "source": [
    "print(\"Total fake news \"+str(fake_news_us_el.shape[0]))\n",
    "print(\"Total true news \"+str(true_news_us_el.shape[0]))"
   ]
  },
  {
   "cell_type": "code",
   "execution_count": 41,
   "metadata": {},
   "outputs": [],
   "source": [
    "import re\n",
    "from nltk import ngrams\n",
    "from nltk.tokenize import RegexpTokenizer\n",
    "from nltk.stem import WordNetLemmatizer\n",
    "from nltk.corpus import stopwords\n",
    "lemmetizer = WordNetLemmatizer()\n",
    "tokenizer = RegexpTokenizer(r\"\\w+\")\n",
    "\n",
    "text_prepared_fake = []\n",
    "for t in fake_news_us_el.text.values.tolist():\n",
    "    v= []\n",
    "    for w in tokenizer.tokenize(t):\n",
    "        w_lem = lemmetizer.lemmatize(w.lower())\n",
    "        if not w_lem.isdigit() and w_lem not in stopwords.words('english') and not bool(re.search(r'\\d', w_lem)):\n",
    "            v.append(w_lem)\n",
    "    text_prepared_fake.append(v)\n",
    "    \n",
    "text_prepared_true = []\n",
    "for t in true_news_us_el.text.values.tolist():\n",
    "    v= []\n",
    "    for w in tokenizer.tokenize(t):\n",
    "        w_lem = lemmetizer.lemmatize(w.lower())\n",
    "        if not w_lem.isdigit() and w_lem not in stopwords.words('english') and not bool(re.search(r'\\d', w_lem)):\n",
    "            v.append(w_lem)\n",
    "    text_prepared_true.append(v)"
   ]
  },
  {
   "cell_type": "markdown",
   "metadata": {},
   "source": [
    "<h1>Sequence lenght determination</h1>"
   ]
  },
  {
   "cell_type": "code",
   "execution_count": 42,
   "metadata": {},
   "outputs": [],
   "source": [
    "documents_lenghts_true = []\n",
    "for t in text_prepared_true:\n",
    "    documents_lenghts_true.append(len(t))\n",
    "\n",
    "    \n",
    "documents_lenghts_fake = []\n",
    "for t in text_prepared_fake:\n",
    "    documents_lenghts_fake.append(len(t))   \n",
    "\n",
    "documents_lenghts = documents_lenghts_true + documents_lenghts_fake\n",
    "  \n",
    "# for i in range(0,min(len(documents_lenghts_true),len(documents_lenghts_fake))):  \n",
    "# #     documents_lenghts.append(documents_lenghts_true[i] + documents_lenghts_fake[i])"
   ]
  },
  {
   "cell_type": "code",
   "execution_count": 43,
   "metadata": {},
   "outputs": [
    {
     "data": {
      "image/png": "[encoded data removed]",
      "text/plain": [
       "<Figure size 1440x576 with 1 Axes>"
      ]
     },
     "metadata": {
      "needs_background": "light"
     },
     "output_type": "display_data"
    }
   ],
   "source": [
    "import numpy as np\n",
    "import matplotlib.pyplot as plt\n",
    "\n",
    "_ = plt.figure(figsize = (20,8))\n",
    "plt.hist(documents_lenghts, bins=[0,250,500,750,1000,1500,2000,2500,3000,3500,8500])\n",
    "plt.xticks(np.arange(min(documents_lenghts), max(documents_lenghts)+1, 500.0))\n",
    "plt.show()"
   ]
  },
  {
   "cell_type": "code",
   "execution_count": 44,
   "metadata": {},
   "outputs": [
    {
     "data": {
      "image/png": "[encoded data removed]",
      "text/plain": [
       "<Figure size 1440x576 with 1 Axes>"
      ]
     },
     "metadata": {
      "needs_background": "light"
     },
     "output_type": "display_data"
    }
   ],
   "source": [
    "import numpy as np\n",
    "import matplotlib.pyplot as plt\n",
    "\n",
    "_ = plt.figure(figsize = (20,8))\n",
    "plt.hist(documents_lenghts_fake, bins=[0,250,500,750,1000,1500,2000,2500,3000,3500,8500])\n",
    "plt.xticks(np.arange(min(documents_lenghts_fake), max(documents_lenghts_fake)+1, 500.0))\n",
    "plt.show()"
   ]
  },
  {
   "cell_type": "code",
   "execution_count": 45,
   "metadata": {},
   "outputs": [
    {
     "data": {
      "image/png": "[encoded data removed]",
      "text/plain": [
       "<Figure size 1440x576 with 1 Axes>"
      ]
     },
     "metadata": {
      "needs_background": "light"
     },
     "output_type": "display_data"
    }
   ],
   "source": [
    "import numpy as np\n",
    "import matplotlib.pyplot as plt\n",
    "\n",
    "_ = plt.figure(figsize = (20,8))\n",
    "plt.hist(documents_lenghts_true, bins=[0,250,500,750,1000,1500,2000,2500,3000,3500,8500])\n",
    "plt.xticks(np.arange(min(documents_lenghts_true), max(documents_lenghts_true)+500, 500.0))\n",
    "plt.show()"
   ]
  },
  {
   "cell_type": "code",
   "execution_count": 53,
   "metadata": {},
   "outputs": [
    {
     "name": "stdout",
     "output_type": "stream",
     "text": [
      "515.602953240361\n",
      "485.0\n",
      "342.6615467992671\n"
     ]
    }
   ],
   "source": [
    "print(stat.mean(documents_lenghts_true))\n",
    "print(stat.median(documents_lenghts_true))\n",
    "print(stat.stdev(documents_lenghts_true))"
   ]
  },
  {
   "cell_type": "code",
   "execution_count": 55,
   "metadata": {},
   "outputs": [
    {
     "name": "stdout",
     "output_type": "stream",
     "text": [
      "407.6859881332725\n",
      "256\n",
      "565.6088914557231\n"
     ]
    }
   ],
   "source": [
    "print(stat.mean(documents_lenghts_fake))\n",
    "print(stat.median(documents_lenghts_fake))\n",
    "print(stat.stdev(documents_lenghts_fake))"
   ]
  },
  {
   "cell_type": "code",
   "execution_count": 49,
   "metadata": {},
   "outputs": [
    {
     "data": {
      "text/plain": [
       "440.9247678605268"
      ]
     },
     "execution_count": 49,
     "metadata": {},
     "output_type": "execute_result"
    }
   ],
   "source": [
    "import statistics as stat\n",
    "stat.mean(documents_lenghts)"
   ]
  },
  {
   "cell_type": "code",
   "execution_count": 47,
   "metadata": {},
   "outputs": [
    {
     "data": {
      "text/plain": [
       "324"
      ]
     },
     "execution_count": 47,
     "metadata": {},
     "output_type": "execute_result"
    }
   ],
   "source": [
    "stat.median(documents_lenghts)"
   ]
  },
  {
   "cell_type": "code",
   "execution_count": 67,
   "metadata": {},
   "outputs": [
    {
     "data": {
      "text/plain": [
       "578.0"
      ]
     },
     "execution_count": 67,
     "metadata": {},
     "output_type": "execute_result"
    }
   ],
   "source": [
    "import numpy as np\n",
    "np.quantile(documents_lenghts,q=0.75)"
   ]
  },
  {
   "cell_type": "code",
   "execution_count": 68,
   "metadata": {},
   "outputs": [
    {
     "data": {
      "text/plain": [
       "155.0"
      ]
     },
     "execution_count": 68,
     "metadata": {},
     "output_type": "execute_result"
    }
   ],
   "source": [
    "import numpy as np\n",
    "np.quantile(documents_lenghts,q=0.25)"
   ]
  },
  {
   "cell_type": "code",
   "execution_count": 50,
   "metadata": {},
   "outputs": [],
   "source": [
    "std = stat.stdev(documents_lenghts)"
   ]
  },
  {
   "cell_type": "code",
   "execution_count": 51,
   "metadata": {},
   "outputs": [
    {
     "data": {
      "text/plain": [
       "509.9165104142875"
      ]
     },
     "execution_count": 51,
     "metadata": {},
     "output_type": "execute_result"
    }
   ],
   "source": [
    "std"
   ]
  },
  {
   "cell_type": "code",
   "execution_count": 81,
   "metadata": {},
   "outputs": [
    {
     "name": "stdout",
     "output_type": "stream",
     "text": [
      "Percetage of texts that has fewer of 618.0 words -all data --- 78.02412987177058\n",
      "Percetage of texts that has fewer of 618.0 words - fake corpus --- 81.57918758557736\n",
      "Percetage of texts that has fewer of 618.0 words - true corpus --- 70.0369155045119\n"
     ]
    }
   ],
   "source": [
    "# boundary = 324 + std*0.79\n",
    "boundary = np.quantile(documents_lenghts,q=0.78)\n",
    "print(f\"Percetage of texts that has fewer of {boundary} words -all data --- {len([x for x in documents_lenghts if x <= boundary])*100/len(documents_lenghts)}\")\n",
    "print(f\"Percetage of texts that has fewer of {boundary} words - fake corpus --- {len([x for x in documents_lenghts_fake if x <= boundary])*100/len(documents_lenghts_fake)}\")\n",
    "print(f\"Percetage of texts that has fewer of {boundary} words - true corpus --- {len([x for x in documents_lenghts_true if x <= boundary])*100/len(documents_lenghts_true)}\")"
   ]
  },
  {
   "cell_type": "code",
   "execution_count": 82,
   "metadata": {},
   "outputs": [
    {
     "name": "stdout",
     "output_type": "stream",
     "text": [
      "Percetage of texts that has more than 618.0 words -all data --- 21.975870128229424\n",
      "Percetage of texts that has more than 618.0 words - fake corpus --- 18.420812414422638\n",
      "Percetage of texts that has more than 618.0 words - true corpus --- 29.963084495488104\n"
     ]
    }
   ],
   "source": [
    "boundary = np.quantile(documents_lenghts,q=0.78)\n",
    "\n",
    "\n",
    "print(f\"Percetage of texts that has more than {boundary} words -all data --- {len([x for x in documents_lenghts if x > boundary])*100/len(documents_lenghts)}\")\n",
    "print(f\"Percetage of texts that has more than {boundary} words - fake corpus --- {len([x for x in documents_lenghts_fake if x > boundary])*100/len(documents_lenghts_fake)}\")\n",
    "print(f\"Percetage of texts that has more than {boundary} words - true corpus --- {len([x for x in documents_lenghts_true if x > boundary])*100/len(documents_lenghts_true)}\")"
   ]
  },
  {
   "cell_type": "code",
   "execution_count": 83,
   "metadata": {},
   "outputs": [
    {
     "data": {
      "text/plain": [
       "618"
      ]
     },
     "execution_count": 83,
     "metadata": {},
     "output_type": "execute_result"
    }
   ],
   "source": [
    "official_lenght = int(boundary)\n",
    "official_lenght"
   ]
  },
  {
   "cell_type": "markdown",
   "metadata": {},
   "source": [
    "<h1>Map word sequences to index sequences</h1>"
   ]
  },
  {
   "cell_type": "markdown",
   "metadata": {},
   "source": [
    "Every word in the sequence is mapped to It's corresponding index or token ID in the given vocabulary (Word2Vec) "
   ]
  },
  {
   "cell_type": "code",
   "execution_count": 17,
   "metadata": {
    "collapsed": true,
    "jupyter": {
     "outputs_hidden": true
    }
   },
   "outputs": [
    {
     "ename": "NameError",
     "evalue": "name 'text_prepared_fake' is not defined",
     "output_type": "error",
     "traceback": [
      "\u001b[0;31m---------------------------------------------------------------------------\u001b[0m",
      "\u001b[0;31mNameError\u001b[0m                                 Traceback (most recent call last)",
      "\u001b[0;32m<ipython-input-17-701c621f7910>\u001b[0m in \u001b[0;36m<module>\u001b[0;34m\u001b[0m\n\u001b[0;32m----> 1\u001b[0;31m \u001b[0mall_text\u001b[0m \u001b[0;34m=\u001b[0m \u001b[0mtext_prepared_fake\u001b[0m \u001b[0;34m+\u001b[0m \u001b[0mtext_prepared_true\u001b[0m\u001b[0;34m\u001b[0m\u001b[0;34m\u001b[0m\u001b[0m\n\u001b[0m\u001b[1;32m      2\u001b[0m \u001b[0mlabels\u001b[0m \u001b[0;34m=\u001b[0m \u001b[0;34m[\u001b[0m\u001b[0;36m1\u001b[0m\u001b[0;34m]\u001b[0m\u001b[0;34m*\u001b[0m\u001b[0mlen\u001b[0m\u001b[0;34m(\u001b[0m\u001b[0mtext_prepared_fake\u001b[0m\u001b[0;34m)\u001b[0m \u001b[0;34m+\u001b[0m \u001b[0;34m[\u001b[0m\u001b[0;36m0\u001b[0m\u001b[0;34m]\u001b[0m\u001b[0;34m*\u001b[0m\u001b[0mlen\u001b[0m\u001b[0;34m(\u001b[0m\u001b[0mtext_prepared_true\u001b[0m\u001b[0;34m)\u001b[0m\u001b[0;34m\u001b[0m\u001b[0;34m\u001b[0m\u001b[0m\n",
      "\u001b[0;31mNameError\u001b[0m: name 'text_prepared_fake' is not defined"
     ]
    }
   ],
   "source": [
    "all_text = text_prepared_fake + text_prepared_true\n",
    "labels = [1]*len(text_prepared_fake) + [0]*len(text_prepared_true)"
   ]
  },
  {
   "cell_type": "code",
   "execution_count": 24,
   "metadata": {},
   "outputs": [],
   "source": [
    "labels = [1]*len(fake_news_us_el) + [0]*len(true_news_us_el)"
   ]
  },
  {
   "cell_type": "code",
   "execution_count": 25,
   "metadata": {},
   "outputs": [],
   "source": [
    "save_pickle_file(labels,\"./labels\")\n",
    "# labels = load_pickle_file(\"labels\")"
   ]
  },
  {
   "cell_type": "code",
   "execution_count": 85,
   "metadata": {},
   "outputs": [
    {
     "data": {
      "text/plain": [
       "'/home/gorgiev_laze/NLP/Modeling-dataset-2'"
      ]
     },
     "execution_count": 85,
     "metadata": {},
     "output_type": "execute_result"
    }
   ],
   "source": [
    "os.getcwd()"
   ]
  },
  {
   "cell_type": "code",
   "execution_count": 87,
   "metadata": {
    "collapsed": true,
    "jupyter": {
     "outputs_hidden": true
    }
   },
   "outputs": [
    {
     "name": "stdout",
     "output_type": "stream",
     "text": [
      "\u001b[33mThe directory '/home/gorgiev_laze/.cache/pip/http' or its parent directory is not owned by the current user and the cache has been disabled. Please check the permissions and owner of that directory. If executing pip with sudo, you may want sudo's -H flag.\u001b[0m\n",
      "\u001b[33mThe directory '/home/gorgiev_laze/.cache/pip' or its parent directory is not owned by the current user and caching wheels has been disabled. check the permissions and owner of that directory. If executing pip with sudo, you may want sudo's -H flag.\u001b[0m\n",
      "Collecting gensim\n",
      "  Downloading https://files.pythonhosted.org/packages/2b/e0/fa6326251692056dc880a64eb22117e03269906ba55a6864864d24ec8b4e/gensim-3.8.3-cp36-cp36m-manylinux1_x86_64.whl (24.2MB)\n",
      "\u001b[K    100% |████████████████████████████████| 24.2MB 45kB/s  eta 0:00:01\n",
      "\u001b[?25hRequirement already satisfied: scipy>=0.18.1 in /usr/local/lib/python3.6/dist-packages (from gensim)\n",
      "Requirement already satisfied: six>=1.5.0 in /usr/lib/python3/dist-packages (from gensim)\n",
      "Collecting smart-open>=1.8.1 (from gensim)\n",
      "  Downloading https://files.pythonhosted.org/packages/0b/8e/464b06f5efd26f2dc16ce7bd1662c2f31cadf9104fdbcbf5994674cc3a51/smart_open-2.1.0.tar.gz (116kB)\n",
      "\u001b[K    100% |████████████████████████████████| 122kB 10.1MB/s ta 0:00:01\n",
      "\u001b[?25hRequirement already satisfied: numpy>=1.11.3 in /usr/local/lib/python3.6/dist-packages (from gensim)\n",
      "Collecting boto (from smart-open>=1.8.1->gensim)\n",
      "  Downloading https://files.pythonhosted.org/packages/23/10/c0b78c27298029e4454a472a1919bde20cb182dab1662cec7f2ca1dcc523/boto-2.49.0-py2.py3-none-any.whl (1.4MB)\n",
      "\u001b[K    100% |████████████████████████████████| 1.4MB 962kB/s eta 0:00:01\n",
      "\u001b[?25hCollecting boto3 (from smart-open>=1.8.1->gensim)\n",
      "  Downloading https://files.pythonhosted.org/packages/c9/a5/e06492d12da34135728559aa18ba6bc841a82cea5a5b3bcbb643ea2dbe07/boto3-1.14.19-py2.py3-none-any.whl (128kB)\n",
      "\u001b[K    100% |████████████████████████████████| 133kB 9.5MB/s eta 0:00:01\n",
      "\u001b[?25hRequirement already satisfied: requests in /usr/lib/python3/dist-packages (from smart-open>=1.8.1->gensim)\n",
      "Collecting jmespath<1.0.0,>=0.7.1 (from boto3->smart-open>=1.8.1->gensim)\n",
      "  Downloading https://files.pythonhosted.org/packages/07/cb/5f001272b6faeb23c1c9e0acc04d48eaaf5c862c17709d20e3469c6e0139/jmespath-0.10.0-py2.py3-none-any.whl\n",
      "Collecting s3transfer<0.4.0,>=0.3.0 (from boto3->smart-open>=1.8.1->gensim)\n",
      "  Downloading https://files.pythonhosted.org/packages/69/79/e6afb3d8b0b4e96cefbdc690f741d7dd24547ff1f94240c997a26fa908d3/s3transfer-0.3.3-py2.py3-none-any.whl (69kB)\n",
      "\u001b[K    100% |████████████████████████████████| 71kB 10.2MB/s ta 0:00:01\n",
      "\u001b[?25hCollecting botocore<1.18.0,>=1.17.19 (from boto3->smart-open>=1.8.1->gensim)\n",
      "  Downloading https://files.pythonhosted.org/packages/e4/33/60eb84ff5dfb26a0c3ae606ba42686f23e9fd5038afddd5882d37623d589/botocore-1.17.19-py2.py3-none-any.whl (6.3MB)\n",
      "\u001b[K    100% |████████████████████████████████| 6.3MB 209kB/s eta 0:00:01\n",
      "\u001b[?25hRequirement already satisfied: urllib3<1.26,>=1.20; python_version != \"3.4\" in /usr/lib/python3/dist-packages (from botocore<1.18.0,>=1.17.19->boto3->smart-open>=1.8.1->gensim)\n",
      "Requirement already satisfied: python-dateutil<3.0.0,>=2.1 in /usr/local/lib/python3.6/dist-packages (from botocore<1.18.0,>=1.17.19->boto3->smart-open>=1.8.1->gensim)\n",
      "Collecting docutils<0.16,>=0.10 (from botocore<1.18.0,>=1.17.19->boto3->smart-open>=1.8.1->gensim)\n",
      "  Downloading https://files.pythonhosted.org/packages/22/cd/a6aa959dca619918ccb55023b4cb151949c64d4d5d55b3f4ffd7eee0c6e8/docutils-0.15.2-py3-none-any.whl (547kB)\n",
      "\u001b[K    100% |████████████████████████████████| 552kB 2.4MB/s eta 0:00:01\n",
      "\u001b[?25hInstalling collected packages: boto, jmespath, docutils, botocore, s3transfer, boto3, smart-open, gensim\n",
      "  Running setup.py install for smart-open ... \u001b[?25ldone\n",
      "\u001b[?25hSuccessfully installed boto-2.49.0 boto3-1.14.19 botocore-1.17.19 docutils-0.15.2 gensim-3.8.3 jmespath-0.10.0 s3transfer-0.3.3 smart-open-2.1.0\n"
     ]
    }
   ],
   "source": [
    "!pip3 install gensim"
   ]
  },
  {
   "cell_type": "code",
   "execution_count": 5,
   "metadata": {},
   "outputs": [],
   "source": [
    "from gensim.models import Word2Vec\n",
    "from gensim.models import KeyedVectors\n",
    "word2vec = KeyedVectors.load_word2vec_format('../../new_disk/GoogleNews-vectors-negative300.bin', binary=True)\n",
    "# new_model_w2v = KeyedVectors.load_word2vec_format(\"../../new_disk/updatedWord2Vec.bin\", binary=True)"
   ]
  },
  {
   "cell_type": "code",
   "execution_count": 93,
   "metadata": {},
   "outputs": [],
   "source": [
    "not_in_wv = set()\n",
    "for sentence in all_text:\n",
    "    for w in sentence:\n",
    "        if w not in word2vec.vocab:\n",
    "            not_in_wv.add(w)\n"
   ]
  },
  {
   "cell_type": "code",
   "execution_count": 94,
   "metadata": {},
   "outputs": [
    {
     "data": {
      "text/plain": [
       "36912"
      ]
     },
     "execution_count": 94,
     "metadata": {},
     "output_type": "execute_result"
    }
   ],
   "source": [
    "len(not_in_wv)"
   ]
  },
  {
   "cell_type": "code",
   "execution_count": 100,
   "metadata": {},
   "outputs": [],
   "source": [
    "from nltk.corpus import words\n",
    "existing_words = []\n",
    "non_existing_words = []\n",
    "i=0\n",
    "for w in not_in_wv:\n",
    "    if w in words.words():\n",
    "        existing_words.append(w)\n",
    "    else:\n",
    "        non_existing_words.append(w)"
   ]
  },
  {
   "cell_type": "code",
   "execution_count": 124,
   "metadata": {},
   "outputs": [
    {
     "name": "stdout",
     "output_type": "stream",
     "text": [
      "1317\n"
     ]
    },
    {
     "data": {
      "text/plain": [
       "35595"
      ]
     },
     "execution_count": 124,
     "metadata": {},
     "output_type": "execute_result"
    }
   ],
   "source": [
    "print(len(set(existing_words)))\n",
    "len(set(non_existing_words))"
   ]
  },
  {
   "cell_type": "code",
   "execution_count": 109,
   "metadata": {},
   "outputs": [],
   "source": [
    "non_existing_words = set(non_existing_words)"
   ]
  },
  {
   "cell_type": "markdown",
   "metadata": {},
   "source": [
    "the non-existing words will be replaced with the word 'unknown_word' and will be represented as vector(unknown) + vector(word)"
   ]
  },
  {
   "cell_type": "code",
   "execution_count": 111,
   "metadata": {},
   "outputs": [],
   "source": [
    "all_text_repl = []\n",
    "i=0\n",
    "for seq in all_text:\n",
    "    i+=1\n",
    "    new_seq = []\n",
    "    for x in seq[:official_lenght]:\n",
    "        if x not in non_existing_words:\n",
    "            new_seq.append(x)\n",
    "        else:\n",
    "            new_seq.append(\"unknown_word\")\n",
    "    all_text_repl.append(new_seq)\n",
    "    \n",
    "# [[x if x not in non_existing_words else 'unknown_word' for x in l[:official_lenght]] for l in all_text]"
   ]
  },
  {
   "cell_type": "code",
   "execution_count": 3,
   "metadata": {},
   "outputs": [],
   "source": [
    "all_text_repl = load_pickle_file(\"text_data_prepared.pkl\")\n",
    "# save_pickle_file(all_text_repl,\"./text_data_prepared.pkl\")"
   ]
  },
  {
   "cell_type": "code",
   "execution_count": 6,
   "metadata": {},
   "outputs": [],
   "source": [
    "unknown_word_vector_repr = word2vec.get_vector('unknown') + word2vec.get_vector('word')\n",
    "v1 = word2vec.get_vector('unknown')\n",
    "v2 = word2vec.get_vector('word')"
   ]
  },
  {
   "cell_type": "code",
   "execution_count": 7,
   "metadata": {},
   "outputs": [],
   "source": [
    "new_model_w2v = Word2Vec(size=300, min_count=1, iter=10)\n",
    "new_model_w2v.build_vocab(all_text_repl)\n",
    "total_examples = new_model_w2v.corpus_count\n",
    "new_model_w2v.build_vocab([list(word2vec.vocab.keys())], update=True)\n",
    "new_model_w2v.intersect_word2vec_format(\"../../new_disk/GoogleNews-vectors-negative300.bin\", binary=True, lockf=0.0)\n",
    "new_model_w2v.train(all_text_repl, total_examples = total_examples, epochs=12)\n",
    "new_model_w2v.wv.add('unknown_word',unknown_word_vector_repr, replace=True)"
   ]
  },
  {
   "cell_type": "code",
   "execution_count": 8,
   "metadata": {},
   "outputs": [],
   "source": [
    "new_model_w2v.wv.save_word2vec_format(\"./word2vecUpdateModel/updatedWord2Vec.bin\",binary=True)"
   ]
  },
  {
   "cell_type": "markdown",
   "metadata": {},
   "source": [
    "<h2>Create embeding matrix</h2>"
   ]
  },
  {
   "cell_type": "code",
   "execution_count": 10,
   "metadata": {},
   "outputs": [],
   "source": [
    "import numpy as np\n",
    "#creating empty word2index dictionary\n",
    "word2index = {}\n",
    "#creating empty embeding matrix\n",
    "vocab = new_model_w2v.wv.vocab\n",
    "\n",
    "embeding_matrix = np.zeros((len(vocab)+1,300))\n",
    "\n",
    "#filling the embeding matrix and word2index dictionary\n",
    "for idx,word in enumerate(list(vocab.keys())):\n",
    "    word2index[word] = idx\n",
    "    embeding_matrix[idx] = new_model_w2v.wv.get_vector(word)"
   ]
  },
  {
   "cell_type": "code",
   "execution_count": 11,
   "metadata": {},
   "outputs": [],
   "source": [
    "padding_value = len(embeding_matrix)-1\n",
    "#dummy vector for the padding value - 3000440\n",
    "embeding_matrix[padding_value] = np.zeros(300)"
   ]
  },
  {
   "cell_type": "code",
   "execution_count": 12,
   "metadata": {},
   "outputs": [],
   "source": [
    "#save embeding matrix and word2index (we do not need anymore word2vec so it does not need to be loaded in memory)\n",
    "save_pickle_file(word2index,\"./word2index\")\n",
    "save_pickle_file(embeding_matrix,\"./embeding_matrix\",protocol = 4)\n",
    "# del word2vec\n",
    "del new_model_w2v"
   ]
  },
  {
   "cell_type": "code",
   "execution_count": 111,
   "metadata": {},
   "outputs": [],
   "source": [
    "word2index = load_pickle_file(\"../new_disk/word2index\")\n",
    "embeding_matrix = load_pickle_file(\"../new_disk/embeding_matrix\",protocol = 4)"
   ]
  },
  {
   "cell_type": "markdown",
   "metadata": {},
   "source": [
    "<h2>Map sequences of words to sequences of indexes</h2>"
   ]
  },
  {
   "cell_type": "code",
   "execution_count": 13,
   "metadata": {},
   "outputs": [],
   "source": [
    "index_sequences = []\n",
    "for sequence in all_text_repl:\n",
    "    new_sequence = []\n",
    "    for w in sequence:\n",
    "        new_sequence.append(word2index[w])\n",
    "    index_sequences.append(np.array(new_sequence))"
   ]
  },
  {
   "cell_type": "code",
   "execution_count": 14,
   "metadata": {},
   "outputs": [],
   "source": [
    "save_pickle_file(index_sequences,\"./index_sequences.pkl\")"
   ]
  },
  {
   "cell_type": "code",
   "execution_count": null,
   "metadata": {},
   "outputs": [],
   "source": [
    "padded_inputs = tf.keras.preprocessing.sequence.pad_sequences(\n",
    "    raw_inputs, padding=\"post\"\n",
    ")\n",
    "print(padded_inputs)"
   ]
  },
  {
   "cell_type": "markdown",
   "metadata": {},
   "source": [
    "<h1>Creating n-grams and tf-idf features</h1>"
   ]
  },
  {
   "cell_type": "code",
   "execution_count": 152,
   "metadata": {
    "collapsed": true,
    "jupyter": {
     "outputs_hidden": true
    }
   },
   "outputs": [
    {
     "ename": "KeyboardInterrupt",
     "evalue": "",
     "output_type": "error",
     "traceback": [
      "\u001b[0;31m---------------------------------------------------------------------------\u001b[0m",
      "\u001b[0;31mKeyboardInterrupt\u001b[0m                         Traceback (most recent call last)",
      "\u001b[0;32m<ipython-input-152-224ddccc3fd1>\u001b[0m in \u001b[0;36m<module>\u001b[0;34m\u001b[0m\n\u001b[1;32m      1\u001b[0m \u001b[0;31m# unigrams = ngrams(text_prepared, 1)\u001b[0m\u001b[0;34m\u001b[0m\u001b[0;34m\u001b[0m\u001b[0;34m\u001b[0m\u001b[0m\n\u001b[0;32m----> 2\u001b[0;31m \u001b[0mbiigrams\u001b[0m \u001b[0;34m=\u001b[0m \u001b[0;34m[\u001b[0m\u001b[0mlist\u001b[0m\u001b[0;34m(\u001b[0m\u001b[0mngrams\u001b[0m\u001b[0;34m(\u001b[0m\u001b[0mt\u001b[0m\u001b[0;34m,\u001b[0m \u001b[0;36m2\u001b[0m\u001b[0;34m)\u001b[0m\u001b[0;34m)\u001b[0m \u001b[0;32mfor\u001b[0m \u001b[0mt\u001b[0m \u001b[0;32min\u001b[0m \u001b[0mtext_prepared\u001b[0m\u001b[0;34m]\u001b[0m\u001b[0;34m\u001b[0m\u001b[0;34m\u001b[0m\u001b[0m\n\u001b[0m\u001b[1;32m      3\u001b[0m \u001b[0;31m# three_grams = ngrams(text_prepared, 3)\u001b[0m\u001b[0;34m\u001b[0m\u001b[0;34m\u001b[0m\u001b[0;34m\u001b[0m\u001b[0m\n\u001b[1;32m      4\u001b[0m \u001b[0;31m# four_grams = ngrams(text_prepared, 3)\u001b[0m\u001b[0;34m\u001b[0m\u001b[0;34m\u001b[0m\u001b[0;34m\u001b[0m\u001b[0m\n",
      "\u001b[0;32m<ipython-input-152-224ddccc3fd1>\u001b[0m in \u001b[0;36m<listcomp>\u001b[0;34m(.0)\u001b[0m\n\u001b[1;32m      1\u001b[0m \u001b[0;31m# unigrams = ngrams(text_prepared, 1)\u001b[0m\u001b[0;34m\u001b[0m\u001b[0;34m\u001b[0m\u001b[0;34m\u001b[0m\u001b[0m\n\u001b[0;32m----> 2\u001b[0;31m \u001b[0mbiigrams\u001b[0m \u001b[0;34m=\u001b[0m \u001b[0;34m[\u001b[0m\u001b[0mlist\u001b[0m\u001b[0;34m(\u001b[0m\u001b[0mngrams\u001b[0m\u001b[0;34m(\u001b[0m\u001b[0mt\u001b[0m\u001b[0;34m,\u001b[0m \u001b[0;36m2\u001b[0m\u001b[0;34m)\u001b[0m\u001b[0;34m)\u001b[0m \u001b[0;32mfor\u001b[0m \u001b[0mt\u001b[0m \u001b[0;32min\u001b[0m \u001b[0mtext_prepared\u001b[0m\u001b[0;34m]\u001b[0m\u001b[0;34m\u001b[0m\u001b[0;34m\u001b[0m\u001b[0m\n\u001b[0m\u001b[1;32m      3\u001b[0m \u001b[0;31m# three_grams = ngrams(text_prepared, 3)\u001b[0m\u001b[0;34m\u001b[0m\u001b[0;34m\u001b[0m\u001b[0;34m\u001b[0m\u001b[0m\n\u001b[1;32m      4\u001b[0m \u001b[0;31m# four_grams = ngrams(text_prepared, 3)\u001b[0m\u001b[0;34m\u001b[0m\u001b[0;34m\u001b[0m\u001b[0;34m\u001b[0m\u001b[0m\n",
      "\u001b[0;32m~/anaconda3/lib/python3.6/site-packages/nltk/util.py\u001b[0m in \u001b[0;36mngrams\u001b[0;34m(sequence, n, pad_left, pad_right, left_pad_symbol, right_pad_symbol)\u001b[0m\n\u001b[1;32m    535\u001b[0m         \u001b[0mhistory\u001b[0m\u001b[0;34m.\u001b[0m\u001b[0mappend\u001b[0m\u001b[0;34m(\u001b[0m\u001b[0mnext_item\u001b[0m\u001b[0;34m)\u001b[0m\u001b[0;34m\u001b[0m\u001b[0;34m\u001b[0m\u001b[0m\n\u001b[1;32m    536\u001b[0m         \u001b[0mn\u001b[0m \u001b[0;34m-=\u001b[0m \u001b[0;36m1\u001b[0m\u001b[0;34m\u001b[0m\u001b[0;34m\u001b[0m\u001b[0m\n\u001b[0;32m--> 537\u001b[0;31m     \u001b[0;32mfor\u001b[0m \u001b[0mitem\u001b[0m \u001b[0;32min\u001b[0m \u001b[0msequence\u001b[0m\u001b[0;34m:\u001b[0m\u001b[0;34m\u001b[0m\u001b[0;34m\u001b[0m\u001b[0m\n\u001b[0m\u001b[1;32m    538\u001b[0m         \u001b[0mhistory\u001b[0m\u001b[0;34m.\u001b[0m\u001b[0mappend\u001b[0m\u001b[0;34m(\u001b[0m\u001b[0mitem\u001b[0m\u001b[0;34m)\u001b[0m\u001b[0;34m\u001b[0m\u001b[0;34m\u001b[0m\u001b[0m\n\u001b[1;32m    539\u001b[0m         \u001b[0;32myield\u001b[0m \u001b[0mtuple\u001b[0m\u001b[0;34m(\u001b[0m\u001b[0mhistory\u001b[0m\u001b[0;34m)\u001b[0m\u001b[0;34m\u001b[0m\u001b[0;34m\u001b[0m\u001b[0m\n",
      "\u001b[0;31mKeyboardInterrupt\u001b[0m: "
     ]
    }
   ],
   "source": [
    "# unigrams = ngrams(text_prepared, 1)\n",
    "biigrams = [list(ngrams(t, 2)) for t in text_prepared]\n",
    "# three_grams = ngrams(text_prepared, 3)\n",
    "# four_grams = ngrams(text_prepared, 3)"
   ]
  },
  {
   "cell_type": "code",
   "execution_count": 163,
   "metadata": {},
   "outputs": [],
   "source": [
    "from sklearn.feature_extraction.text import TfidfVectorizer\n",
    "vectorizer = TfidfVectorizer(vocabulary = all_words ,stop_words = 'english',ngram_range = (2,2))\n"
   ]
  },
  {
   "cell_type": "code",
   "execution_count": 165,
   "metadata": {},
   "outputs": [],
   "source": [
    "vectors = vectorizer.fit_transform([\" \".join(t) for t in text_prepared])"
   ]
  },
  {
   "cell_type": "code",
   "execution_count": null,
   "metadata": {},
   "outputs": [],
   "source": [
    "fature_names = vectorizer.get_feature_names()\n",
    "vectors_list = vectors.todense().tolist()\n",
    "df = pd.DataFrame(vectors_list,columns=feature_names)\n",
    "df.head()"
   ]
  },
  {
   "cell_type": "code",
   "execution_count": 95,
   "metadata": {},
   "outputs": [],
   "source": [
    "import os\n",
    "import pickle\n",
    "\n",
    "\n",
    "def replace_short_phrases(t):\n",
    "    for key in contractions:\n",
    "        t = t.replace(key,contractions[key])\n",
    "    return t\n",
    "\n",
    "def load_embeddings(file_name, vocabulary):\n",
    " \n",
    "    embeddings = dict()\n",
    "    with open(file_name, 'r', encoding='utf-8') as doc:\n",
    "            line = doc.readline()\n",
    "            while line != '':\n",
    "                line = line.rstrip('\\n').lower()\n",
    "                parts = line.split(' ')\n",
    "                vals = np.array(parts[1:], dtype=np.float)\n",
    "                if parts[0] in vocabulary:\n",
    "                     embeddings[parts[0]] = vals\n",
    "                line = doc.readline()\n",
    "    return embeddings\n",
    "\n",
    "def load_embedding_weights(vocabulary, embedding_size):\n",
    "        if os.path.exists('Glove/embedding_matrix.pkl'):\n",
    "            with open('Glove/embedding_matrix.pkl', 'rb') as f:\n",
    "                 embedding_matrix = pickle.load(f)\n",
    "        else:\n",
    "            print('Creating embedding weights...')\n",
    "            embeddings = load_embeddings(f'Glove/glove.6B.{embedding_size}d.txt',\n",
    "             vocabulary)\n",
    "            embedding_matrix = np.zeros((len(vocabulary), embedding_size))\n",
    "            for i in range(len(vocabulary)):\n",
    "                if vocabulary[i] in embeddings.keys():\n",
    "                    embedding_matrix[i] = embeddings[vocabulary[i]]\n",
    "                else:\n",
    "                    embedding_matrix[i] = np.random.standard_normal(embedding_size)\n",
    "            with open('Glove/embedding_matrix.pkl', 'wb') as f:\n",
    "                pickle.dump(embedding_matrix, f)\n",
    "        return embedding_matrix"
   ]
  },
  {
   "cell_type": "code",
   "execution_count": 2,
   "metadata": {},
   "outputs": [],
   "source": [
    "import pickle\n",
    "def save_pickle_file(file,file_path,protocol=None):\n",
    "    with open(file_path,\"wb\") as f:\n",
    "        if protocol:\n",
    "            pickle.dump(file,f,protocol = protocol)\n",
    "        else:\n",
    "            pickle.dump(file,f)\n",
    "\n",
    "def load_pickle_file(file_path, protocol=None):\n",
    "     with open(file_path,\"rb\") as f:\n",
    "        if protocol:\n",
    "            return pickle.load(f)\n",
    "        else:\n",
    "            return pickle.load(f)\n"
   ]
  },
  {
   "cell_type": "code",
   "execution_count": 22,
   "metadata": {},
   "outputs": [],
   "source": [
    "\n",
    "contractions = {\n",
    "\"ain't\": \"am not / are not\",\n",
    "\"aren't\": \"are not / am not\",\n",
    "\"can't\": \"cannot\",\n",
    "\"can't've\": \"cannot have\",\n",
    "\"'cause\": \"because\",\n",
    "\"could've\": \"could have\",\n",
    "\"couldn't\": \"could not\",\n",
    "\"couldn't've\": \"could not have\",\n",
    "\"didn't\": \"did not\",\n",
    "\"doesn't\": \"does not\",\n",
    "\"don't\": \"do not\",\n",
    "\"hadn't\": \"had not\",\n",
    "\"hadn't've\": \"had not have\",\n",
    "\"hasn't\": \"has not\",\n",
    "\"haven't\": \"have not\",\n",
    "\"he'd\": \"he had / he would\",\n",
    "\"he'd've\": \"he would have\",\n",
    "\"he'll\": \"he shall / he will\",\n",
    "\"he'll've\": \"he shall have / he will have\",\n",
    "\"he's\": \"he has / he is\",\n",
    "\"how'd\": \"how did\",\n",
    "\"how'd'y\": \"how do you\",\n",
    "\"how'll\": \"how will\",\n",
    "\"how's\": \"how has / how is\",\n",
    "\"i'd\": \"I had / I would\",\n",
    "\"i'd've\": \"I would have\",\n",
    "\"i'll\": \"I shall / I will\",\n",
    "\"i'll've\": \"I shall have / I will have\",\n",
    "\"i'm\": \"I am\",\n",
    "\"i've\": \"I have\",\n",
    "\"isn't\": \"is not\",\n",
    "\"it'd\": \"it had / it would\",\n",
    "\"it'd've\": \"it would have\",\n",
    "\"it'll\": \"it shall / it will\",\n",
    "\"it'll've\": \"it shall have / it will have\",\n",
    "\"it's\": \"it has / it is\",\n",
    "\"let's\": \"let us\",\n",
    "\"ma'am\": \"madam\",\n",
    "\"mayn't\": \"may not\",\n",
    "\"might've\": \"might have\",\n",
    "\"mightn't\": \"might not\",\n",
    "\"mightn't've\": \"might not have\",\n",
    "\"must've\": \"must have\",\n",
    "\"mustn't\": \"must not\",\n",
    "\"mustn't've\": \"must not have\",\n",
    "\"needn't\": \"need not\",\n",
    "\"needn't've\": \"need not have\",\n",
    "\"o'clock\": \"of the clock\",\n",
    "\"oughtn't\": \"ought not\",\n",
    "\"oughtn't've\": \"ought not have\",\n",
    "\"shan't\": \"shall not\",\n",
    "\"sha'n't\": \"shall not\",\n",
    "\"shan't've\": \"shall not have\",\n",
    "\"she'd\": \"she had / she would\",\n",
    "\"she'd've\": \"she would have\",\n",
    "\"she'll\": \"she shall / she will\",\n",
    "\"she'll've\": \"she shall have / she will have\",\n",
    "\"she's\": \"she has / she is\",\n",
    "\"should've\": \"should have\",\n",
    "\"shouldn't\": \"should not\",\n",
    "\"shouldn't've\": \"should not have\",\n",
    "\"so've\": \"so have\",\n",
    "\"so's\": \"so as / so is\",\n",
    "\"that'd\": \"that would / that had\",\n",
    "\"that'd've\": \"that would have\",\n",
    "\"that's\": \"that has / that is\",\n",
    "\"there'd\": \"there had / there would\",\n",
    "\"there'd've\": \"there would have\",\n",
    "\"there's\": \"there has / there is\",\n",
    "\"they'd\": \"they had / they would\",\n",
    "\"they'd've\": \"they would have\",\n",
    "\"they'll\": \"they shall / they will\",\n",
    "\"they'll've\": \"they shall have / they will have\",\n",
    "\"they're\": \"they are\",\n",
    "\"they've\": \"they have\",\n",
    "\"to've\": \"to have\",\n",
    "\"wasn't\": \"was not\",\n",
    "\"we'd\": \"we had / we would\",\n",
    "\"we'd've\": \"we would have\",\n",
    "\"we'll\": \"we will\",\n",
    "\"we'll've\": \"we will have\",\n",
    "\"we're\": \"we are\",\n",
    "\"we've\": \"we have\",\n",
    "\"weren't\": \"were not\",\n",
    "\"what'll\": \"what shall / what will\",\n",
    "\"what'll've\": \"what shall have / what will have\",\n",
    "\"what're\": \"what are\",\n",
    "\"what's\": \"what has / what is\",\n",
    "\"what've\": \"what have\",\n",
    "\"when's\": \"when has / when is\",\n",
    "\"when've\": \"when have\",\n",
    "\"where'd\": \"where did\",\n",
    "\"where's\": \"where has / where is\",\n",
    "\"where've\": \"where have\",\n",
    "\"who'll\": \"who shall / who will\",\n",
    "\"who'll've\": \"who shall have / who will have\",\n",
    "\"who's\": \"who has / who is\",\n",
    "\"who've\": \"who have\",\n",
    "\"why's\": \"why has / why is\",\n",
    "\"why've\": \"why have\",\n",
    "\"will've\": \"will have\",\n",
    "\"won't\": \"will not\",\n",
    "\"won't've\": \"will not have\",\n",
    "\"would've\": \"would have\",\n",
    "\"wouldn't\": \"would not\",\n",
    "\"wouldn't've\": \"would not have\",\n",
    "\"y'all\": \"you all\",\n",
    "\"y'all'd\": \"you all would\",\n",
    "\"y'all'd've\": \"you all would have\",\n",
    "\"y'all're\": \"you all are\",\n",
    "\"y'all've\": \"you all have\",\n",
    "\"you'd\": \"you had / you would\",\n",
    "\"you'd've\": \"you would have\",\n",
    "\"you'll\": \"you shall / you will\",\n",
    "\"you'll've\": \"you shall have / you will have\",\n",
    "\"you're\": \"you are\",\n",
    "\"you've\": \"you have\"\n",
    "}"
   ]
  }
 ],
 "metadata": {
  "kernelspec": {
   "display_name": "Python 3",
   "language": "python",
   "name": "python3"
  },
  "language_info": {
   "codemirror_mode": {
    "name": "ipython",
    "version": 3
   },
   "file_extension": ".py",
   "mimetype": "text/x-python",
   "name": "python",
   "nbconvert_exporter": "python",
   "pygments_lexer": "ipython3",
   "version": "3.6.9"
  }
 },
 "nbformat": 4,
 "nbformat_minor": 4
}
