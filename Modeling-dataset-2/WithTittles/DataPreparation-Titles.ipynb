{
 "cells": [
  {
   "cell_type": "code",
   "execution_count": 8,
   "metadata": {},
   "outputs": [],
   "source": [
    "import pandas as pd\n",
    "\n",
    "# np.load(\"/content/drive/My Drive/ModelingAllLogs (1)/template2vec_hdfs_logs.npy\",allow_pickle=True)\n",
    "corpus = pd.read_csv(\"./dataset/all_data.csv\")\n",
    "corpus = corpus[[True if len(x) > 80 else False for x in corpus[\"text\"].values]]\n"
   ]
  },
  {
   "cell_type": "code",
   "execution_count": 10,
   "metadata": {},
   "outputs": [
    {
     "data": {
      "text/plain": [
       "array(['english', 'german', 'french', 'spanish', 'russian', 'greek',\n",
       "       'finnish', 'portuguese', 'arabic', 'dutch', 'italian', 'turkish',\n",
       "       'ignore', 'norwegian', 'chinese', 'polish', nan], dtype=object)"
      ]
     },
     "execution_count": 10,
     "metadata": {},
     "output_type": "execute_result"
    }
   ],
   "source": [
    "corpus[\"language\"].unique()"
   ]
  },
  {
   "cell_type": "code",
   "execution_count": 10,
   "metadata": {},
   "outputs": [
    {
     "data": {
      "text/plain": [
       "(15831, 54)"
      ]
     },
     "execution_count": 10,
     "metadata": {},
     "output_type": "execute_result"
    }
   ],
   "source": [
    "corpus_english = corpus[corpus[\"language\"] == \"english\"]\n",
    "corpus_english.shape"
   ]
  },
  {
   "cell_type": "code",
   "execution_count": 20,
   "metadata": {},
   "outputs": [
    {
     "data": {
      "text/plain": [
       "Index(['Unnamed: 0', 'Unnamed: 0.1', 'author', 'comments', 'country',\n",
       "       'crawled', 'domain_rank', 'id', 'language', 'likes', 'main_img_url',\n",
       "       'ord_in_thread', 'participants_count', 'published', 'replies_count',\n",
       "       'shares', 'site_url', 'spam_score', 'text', 'thread_title', 'title',\n",
       "       'type', 'uuid', 'caps_title', 'caps_thread', 'caps_text', 'title_len',\n",
       "       'thread_len', 'text_len', 'excl_title', 'excl_thread', 'excl_text',\n",
       "       'first_title', 'first_thread', 'first_text', 'second_title',\n",
       "       'second_thread', 'second_text', 'third_title', 'third_thread',\n",
       "       'third_text', 'anger', 'anticipation', 'disgust', 'fear', 'joy',\n",
       "       'sadness', 'surprise', 'trust', 'negative', 'positive', 'first_all',\n",
       "       'second_all', 'third_all'],\n",
       "      dtype='object')"
      ]
     },
     "execution_count": 20,
     "metadata": {},
     "output_type": "execute_result"
    }
   ],
   "source": [
    "corpus_english.columns"
   ]
  },
  {
   "cell_type": "code",
   "execution_count": 33,
   "metadata": {},
   "outputs": [
    {
     "data": {
      "text/plain": [
       "array(['real', 'fake'], dtype=object)"
      ]
     },
     "execution_count": 33,
     "metadata": {},
     "output_type": "execute_result"
    }
   ],
   "source": [
    "corpus_english.type.unique()"
   ]
  },
  {
   "cell_type": "code",
   "execution_count": 11,
   "metadata": {},
   "outputs": [
    {
     "data": {
      "text/html": [
       "<div>\n",
       "<style scoped>\n",
       "    .dataframe tbody tr th:only-of-type {\n",
       "        vertical-align: middle;\n",
       "    }\n",
       "\n",
       "    .dataframe tbody tr th {\n",
       "        vertical-align: top;\n",
       "    }\n",
       "\n",
       "    .dataframe thead th {\n",
       "        text-align: right;\n",
       "    }\n",
       "</style>\n",
       "<table border=\"1\" class=\"dataframe\">\n",
       "  <thead>\n",
       "    <tr style=\"text-align: right;\">\n",
       "      <th></th>\n",
       "      <th>title</th>\n",
       "      <th>text</th>\n",
       "      <th>type</th>\n",
       "    </tr>\n",
       "  </thead>\n",
       "  <tbody>\n",
       "    <tr>\n",
       "      <th>0</th>\n",
       "      <td>At Donald Trump&lt;U+2019&gt;s Properties, a Showcas...</td>\n",
       "      <td>They stood in line at Trump Tower, sometimes u...</td>\n",
       "      <td>real</td>\n",
       "    </tr>\n",
       "    <tr>\n",
       "      <th>1</th>\n",
       "      <td>Trump Foundation Tells New York It Has Stopped...</td>\n",
       "      <td>Donald J. Trump &lt;U+2019&gt;s foundation informed ...</td>\n",
       "      <td>real</td>\n",
       "    </tr>\n",
       "  </tbody>\n",
       "</table>\n",
       "</div>"
      ],
      "text/plain": [
       "                                               title  \\\n",
       "0  At Donald Trump<U+2019>s Properties, a Showcas...   \n",
       "1  Trump Foundation Tells New York It Has Stopped...   \n",
       "\n",
       "                                                text  type  \n",
       "0  They stood in line at Trump Tower, sometimes u...  real  \n",
       "1  Donald J. Trump <U+2019>s foundation informed ...  real  "
      ]
     },
     "execution_count": 11,
     "metadata": {},
     "output_type": "execute_result"
    }
   ],
   "source": [
    "#we will use only the columns: text, title,type\n",
    "corpus_news_att_filtered = corpus_english[[\"title\",\"text\",\"type\"]]\n",
    "corpus_news_att_filtered.head(2)"
   ]
  },
  {
   "cell_type": "code",
   "execution_count": 13,
   "metadata": {},
   "outputs": [],
   "source": [
    "fake_news_us_el = corpus_news_att_filtered[corpus_news_att_filtered.type == \"fake\"]\n",
    "true_news_us_el = corpus_news_att_filtered[corpus_news_att_filtered.type == \"real\"]\n"
   ]
  },
  {
   "cell_type": "markdown",
   "metadata": {},
   "source": [
    "Data analysis and visualization"
   ]
  },
  {
   "cell_type": "code",
   "execution_count": 5,
   "metadata": {},
   "outputs": [
    {
     "name": "stdout",
     "output_type": "stream",
     "text": [
      "Total fake news 10955\n",
      "Total true news 4876\n"
     ]
    }
   ],
   "source": [
    "print(\"Total fake news \"+str(fake_news_us_el.shape[0]))\n",
    "print(\"Total true news \"+str(true_news_us_el.shape[0]))"
   ]
  },
  {
   "cell_type": "code",
   "execution_count": 14,
   "metadata": {},
   "outputs": [],
   "source": [
    "import re\n",
    "from nltk import ngrams\n",
    "from nltk.tokenize import RegexpTokenizer\n",
    "from nltk.stem import WordNetLemmatizer\n",
    "from nltk.corpus import stopwords\n",
    "lemmetizer = WordNetLemmatizer()\n",
    "tokenizer = RegexpTokenizer(r\"\\w+\")\n",
    "\n",
    "text_prepared_fake_title = []\n",
    "for t in fake_news_us_el.title.values.tolist():\n",
    "    v= []\n",
    "    for w in tokenizer.tokenize(t):\n",
    "        w_lem = lemmetizer.lemmatize(w.lower())\n",
    "        if not w_lem.isdigit() and w_lem not in stopwords.words('english') and not bool(re.search(r'\\d', w_lem)):\n",
    "            v.append(w_lem)\n",
    "    text_prepared_fake_title.append(v)\n",
    "    \n",
    "text_prepared_true_titles = []\n",
    "for t in true_news_us_el.title.values.tolist():\n",
    "    v= []\n",
    "    for w in tokenizer.tokenize(t):\n",
    "        w_lem = lemmetizer.lemmatize(w.lower())\n",
    "        if not w_lem.isdigit() and w_lem not in stopwords.words('english') and not bool(re.search(r'\\d', w_lem)):\n",
    "            v.append(w_lem)\n",
    "    text_prepared_true_titles.append(v)"
   ]
  },
  {
   "cell_type": "markdown",
   "metadata": {},
   "source": [
    "<h1>Sequence lenght determination</h1>"
   ]
  },
  {
   "cell_type": "code",
   "execution_count": 24,
   "metadata": {},
   "outputs": [],
   "source": [
    "documents_lenghts_true = []\n",
    "for t in text_prepared_true_titles:\n",
    "    documents_lenghts_true.append(len(t))\n",
    "\n",
    "    \n",
    "documents_lenghts_fake = []\n",
    "for t in text_prepared_fake_title:\n",
    "    documents_lenghts_fake.append(len(t))   \n",
    "\n",
    "documents_lenghts = documents_lenghts_true + documents_lenghts_fake\n",
    "  \n",
    "# for i in range(0,min(len(documents_lenghts_true),len(documents_lenghts_fake))):  \n",
    "# #     documents_lenghts.append(documents_lenghts_true[i] + documents_lenghts_fake[i])"
   ]
  },
  {
   "cell_type": "code",
   "execution_count": 26,
   "metadata": {},
   "outputs": [
    {
     "data": {
      "image/png": "[encoded data removed]",
      "text/plain": [
       "<Figure size 1440x576 with 1 Axes>"
      ]
     },
     "metadata": {
      "needs_background": "light"
     },
     "output_type": "display_data"
    }
   ],
   "source": [
    "import numpy as np\n",
    "import matplotlib.pyplot as plt\n",
    "\n",
    "_ = plt.figure(figsize = (20,8))\n",
    "plt.hist(documents_lenghts, bins=[0,5,10,15,20,25,30,40,50])\n",
    "plt.xticks(np.arange(min(documents_lenghts), max(documents_lenghts)+1, 5.0))\n",
    "plt.show()"
   ]
  },
  {
   "cell_type": "code",
   "execution_count": 20,
   "metadata": {},
   "outputs": [
    {
     "data": {
      "text/plain": [
       "[]"
      ]
     },
     "execution_count": 20,
     "metadata": {},
     "output_type": "execute_result"
    }
   ],
   "source": [
    "documents_lenghts_fake"
   ]
  },
  {
   "cell_type": "code",
   "execution_count": 25,
   "metadata": {},
   "outputs": [
    {
     "data": {
      "image/png": "[encoded data removed]",
      "text/plain": [
       "<Figure size 1440x576 with 1 Axes>"
      ]
     },
     "metadata": {
      "needs_background": "light"
     },
     "output_type": "display_data"
    }
   ],
   "source": [
    "import numpy as np\n",
    "import matplotlib.pyplot as plt\n",
    "\n",
    "_ = plt.figure(figsize = (20,8))\n",
    "plt.hist(documents_lenghts_fake, bins=[0,5,10,15,20,25,30,40,50])\n",
    "plt.xticks(np.arange(min(documents_lenghts_fake), max(documents_lenghts_fake)+1, 5.0))\n",
    "plt.show()"
   ]
  },
  {
   "cell_type": "code",
   "execution_count": 29,
   "metadata": {},
   "outputs": [
    {
     "data": {
      "image/png": "[encoded data removed]",
      "text/plain": [
       "<Figure size 1440x576 with 1 Axes>"
      ]
     },
     "metadata": {
      "needs_background": "light"
     },
     "output_type": "display_data"
    }
   ],
   "source": [
    "import numpy as np\n",
    "import matplotlib.pyplot as plt\n",
    "\n",
    "_ = plt.figure(figsize = (20,8))\n",
    "plt.hist(documents_lenghts_true, bins=[0,5,10,15,20,25,30,40,50])\n",
    "plt.xticks(np.arange(min(documents_lenghts_true), max(documents_lenghts_true)+1, 5.0))\n",
    "plt.show()"
   ]
  },
  {
   "cell_type": "code",
   "execution_count": 31,
   "metadata": {},
   "outputs": [
    {
     "name": "stdout",
     "output_type": "stream",
     "text": [
      "7.564602132895816\n",
      "7.0\n",
      "2.7761862912493065\n"
     ]
    }
   ],
   "source": [
    "import statistics as stat\n",
    "\n",
    "print(stat.mean(documents_lenghts_true))\n",
    "print(stat.median(documents_lenghts_true))\n",
    "print(stat.stdev(documents_lenghts_true))"
   ]
  },
  {
   "cell_type": "code",
   "execution_count": 32,
   "metadata": {},
   "outputs": [
    {
     "name": "stdout",
     "output_type": "stream",
     "text": [
      "8.020538566864445\n",
      "8\n",
      "3.766975197456964\n"
     ]
    }
   ],
   "source": [
    "print(stat.mean(documents_lenghts_fake))\n",
    "print(stat.median(documents_lenghts_fake))\n",
    "print(stat.stdev(documents_lenghts_fake))"
   ]
  },
  {
   "cell_type": "code",
   "execution_count": 33,
   "metadata": {},
   "outputs": [
    {
     "data": {
      "text/plain": [
       "7.880108647590172"
      ]
     },
     "execution_count": 33,
     "metadata": {},
     "output_type": "execute_result"
    }
   ],
   "source": [
    "stat.mean(documents_lenghts)"
   ]
  },
  {
   "cell_type": "code",
   "execution_count": 34,
   "metadata": {},
   "outputs": [
    {
     "data": {
      "text/plain": [
       "8"
      ]
     },
     "execution_count": 34,
     "metadata": {},
     "output_type": "execute_result"
    }
   ],
   "source": [
    "stat.median(documents_lenghts)"
   ]
  },
  {
   "cell_type": "code",
   "execution_count": 35,
   "metadata": {},
   "outputs": [
    {
     "data": {
      "text/plain": [
       "10.0"
      ]
     },
     "execution_count": 35,
     "metadata": {},
     "output_type": "execute_result"
    }
   ],
   "source": [
    "import numpy as np\n",
    "np.quantile(documents_lenghts,q=0.75)"
   ]
  },
  {
   "cell_type": "code",
   "execution_count": 68,
   "metadata": {},
   "outputs": [
    {
     "data": {
      "text/plain": [
       "155.0"
      ]
     },
     "execution_count": 68,
     "metadata": {},
     "output_type": "execute_result"
    }
   ],
   "source": [
    "import numpy as np\n",
    "np.quantile(documents_lenghts,q=0.25)"
   ]
  },
  {
   "cell_type": "code",
   "execution_count": 36,
   "metadata": {},
   "outputs": [],
   "source": [
    "std = stat.stdev(documents_lenghts)"
   ]
  },
  {
   "cell_type": "code",
   "execution_count": 37,
   "metadata": {},
   "outputs": [
    {
     "data": {
      "text/plain": [
       "3.4981490116148812"
      ]
     },
     "execution_count": 37,
     "metadata": {},
     "output_type": "execute_result"
    }
   ],
   "source": [
    "std"
   ]
  },
  {
   "cell_type": "code",
   "execution_count": 38,
   "metadata": {},
   "outputs": [
    {
     "name": "stdout",
     "output_type": "stream",
     "text": [
      "Percetage of texts that has fewer of 10.0 words -all data --- 80.94877139789021\n",
      "Percetage of texts that has fewer of 10.0 words - fake corpus --- 77.38019169329074\n",
      "Percetage of texts that has fewer of 10.0 words - true corpus --- 88.96636587366694\n"
     ]
    }
   ],
   "source": [
    "# boundary = 324 + std*0.79\n",
    "boundary = np.quantile(documents_lenghts,q=0.78)\n",
    "print(f\"Percetage of texts that has fewer of {boundary} words -all data --- {len([x for x in documents_lenghts if x <= boundary])*100/len(documents_lenghts)}\")\n",
    "print(f\"Percetage of texts that has fewer of {boundary} words - fake corpus --- {len([x for x in documents_lenghts_fake if x <= boundary])*100/len(documents_lenghts_fake)}\")\n",
    "print(f\"Percetage of texts that has fewer of {boundary} words - true corpus --- {len([x for x in documents_lenghts_true if x <= boundary])*100/len(documents_lenghts_true)}\")"
   ]
  },
  {
   "cell_type": "code",
   "execution_count": 39,
   "metadata": {},
   "outputs": [
    {
     "name": "stdout",
     "output_type": "stream",
     "text": [
      "Percetage of texts that has more than 10.0 words -all data --- 19.051228602109784\n",
      "Percetage of texts that has more than 10.0 words - fake corpus --- 22.619808306709267\n",
      "Percetage of texts that has more than 10.0 words - true corpus --- 11.03363412633306\n"
     ]
    }
   ],
   "source": [
    "boundary = np.quantile(documents_lenghts,q=0.78)\n",
    "\n",
    "\n",
    "print(f\"Percetage of texts that has more than {boundary} words -all data --- {len([x for x in documents_lenghts if x > boundary])*100/len(documents_lenghts)}\")\n",
    "print(f\"Percetage of texts that has more than {boundary} words - fake corpus --- {len([x for x in documents_lenghts_fake if x > boundary])*100/len(documents_lenghts_fake)}\")\n",
    "print(f\"Percetage of texts that has more than {boundary} words - true corpus --- {len([x for x in documents_lenghts_true if x > boundary])*100/len(documents_lenghts_true)}\")"
   ]
  },
  {
   "cell_type": "code",
   "execution_count": 41,
   "metadata": {},
   "outputs": [
    {
     "data": {
      "text/plain": [
       "10"
      ]
     },
     "execution_count": 41,
     "metadata": {},
     "output_type": "execute_result"
    }
   ],
   "source": [
    "official_lenght = int(boundary)\n",
    "official_lenght"
   ]
  },
  {
   "cell_type": "code",
   "execution_count": 30,
   "metadata": {},
   "outputs": [],
   "source": [
    "official_lenght = 10"
   ]
  },
  {
   "cell_type": "markdown",
   "metadata": {},
   "source": [
    "<h1>Map word sequences to index sequences</h1>"
   ]
  },
  {
   "cell_type": "markdown",
   "metadata": {},
   "source": [
    "Every word in the sequence is mapped to It's corresponding index or token ID in the given vocabulary (Word2Vec) "
   ]
  },
  {
   "cell_type": "code",
   "execution_count": 16,
   "metadata": {},
   "outputs": [],
   "source": [
    "all_titles = text_prepared_fake_title + text_prepared_true_titles\n",
    "# labels = [1]*len(text_prepared_fake) + [0]*len(text_prepared_true)"
   ]
  },
  {
   "cell_type": "code",
   "execution_count": 25,
   "metadata": {},
   "outputs": [],
   "source": [
    "save_pickle_file(labels,\"./labels\")\n",
    "# labels = load_pickle_file(\"labels\")"
   ]
  },
  {
   "cell_type": "code",
   "execution_count": 85,
   "metadata": {},
   "outputs": [
    {
     "data": {
      "text/plain": [
       "'/home/gorgiev_laze/NLP/Modeling-dataset-2'"
      ]
     },
     "execution_count": 85,
     "metadata": {},
     "output_type": "execute_result"
    }
   ],
   "source": [
    "os.getcwd()"
   ]
  },
  {
   "cell_type": "code",
   "execution_count": 87,
   "metadata": {
    "collapsed": true,
    "jupyter": {
     "outputs_hidden": true
    }
   },
   "outputs": [
    {
     "name": "stdout",
     "output_type": "stream",
     "text": [
      "\u001b[33mThe directory '/home/gorgiev_laze/.cache/pip/http' or its parent directory is not owned by the current user and the cache has been disabled. Please check the permissions and owner of that directory. If executing pip with sudo, you may want sudo's -H flag.\u001b[0m\n",
      "\u001b[33mThe directory '/home/gorgiev_laze/.cache/pip' or its parent directory is not owned by the current user and caching wheels has been disabled. check the permissions and owner of that directory. If executing pip with sudo, you may want sudo's -H flag.\u001b[0m\n",
      "Collecting gensim\n",
      "  Downloading https://files.pythonhosted.org/packages/2b/e0/fa6326251692056dc880a64eb22117e03269906ba55a6864864d24ec8b4e/gensim-3.8.3-cp36-cp36m-manylinux1_x86_64.whl (24.2MB)\n",
      "\u001b[K    100% |████████████████████████████████| 24.2MB 45kB/s  eta 0:00:01\n",
      "\u001b[?25hRequirement already satisfied: scipy>=0.18.1 in /usr/local/lib/python3.6/dist-packages (from gensim)\n",
      "Requirement already satisfied: six>=1.5.0 in /usr/lib/python3/dist-packages (from gensim)\n",
      "Collecting smart-open>=1.8.1 (from gensim)\n",
      "  Downloading https://files.pythonhosted.org/packages/0b/8e/464b06f5efd26f2dc16ce7bd1662c2f31cadf9104fdbcbf5994674cc3a51/smart_open-2.1.0.tar.gz (116kB)\n",
      "\u001b[K    100% |████████████████████████████████| 122kB 10.1MB/s ta 0:00:01\n",
      "\u001b[?25hRequirement already satisfied: numpy>=1.11.3 in /usr/local/lib/python3.6/dist-packages (from gensim)\n",
      "Collecting boto (from smart-open>=1.8.1->gensim)\n",
      "  Downloading https://files.pythonhosted.org/packages/23/10/c0b78c27298029e4454a472a1919bde20cb182dab1662cec7f2ca1dcc523/boto-2.49.0-py2.py3-none-any.whl (1.4MB)\n",
      "\u001b[K    100% |████████████████████████████████| 1.4MB 962kB/s eta 0:00:01\n",
      "\u001b[?25hCollecting boto3 (from smart-open>=1.8.1->gensim)\n",
      "  Downloading https://files.pythonhosted.org/packages/c9/a5/e06492d12da34135728559aa18ba6bc841a82cea5a5b3bcbb643ea2dbe07/boto3-1.14.19-py2.py3-none-any.whl (128kB)\n",
      "\u001b[K    100% |████████████████████████████████| 133kB 9.5MB/s eta 0:00:01\n",
      "\u001b[?25hRequirement already satisfied: requests in /usr/lib/python3/dist-packages (from smart-open>=1.8.1->gensim)\n",
      "Collecting jmespath<1.0.0,>=0.7.1 (from boto3->smart-open>=1.8.1->gensim)\n",
      "  Downloading https://files.pythonhosted.org/packages/07/cb/5f001272b6faeb23c1c9e0acc04d48eaaf5c862c17709d20e3469c6e0139/jmespath-0.10.0-py2.py3-none-any.whl\n",
      "Collecting s3transfer<0.4.0,>=0.3.0 (from boto3->smart-open>=1.8.1->gensim)\n",
      "  Downloading https://files.pythonhosted.org/packages/69/79/e6afb3d8b0b4e96cefbdc690f741d7dd24547ff1f94240c997a26fa908d3/s3transfer-0.3.3-py2.py3-none-any.whl (69kB)\n",
      "\u001b[K    100% |████████████████████████████████| 71kB 10.2MB/s ta 0:00:01\n",
      "\u001b[?25hCollecting botocore<1.18.0,>=1.17.19 (from boto3->smart-open>=1.8.1->gensim)\n",
      "  Downloading https://files.pythonhosted.org/packages/e4/33/60eb84ff5dfb26a0c3ae606ba42686f23e9fd5038afddd5882d37623d589/botocore-1.17.19-py2.py3-none-any.whl (6.3MB)\n",
      "\u001b[K    100% |████████████████████████████████| 6.3MB 209kB/s eta 0:00:01\n",
      "\u001b[?25hRequirement already satisfied: urllib3<1.26,>=1.20; python_version != \"3.4\" in /usr/lib/python3/dist-packages (from botocore<1.18.0,>=1.17.19->boto3->smart-open>=1.8.1->gensim)\n",
      "Requirement already satisfied: python-dateutil<3.0.0,>=2.1 in /usr/local/lib/python3.6/dist-packages (from botocore<1.18.0,>=1.17.19->boto3->smart-open>=1.8.1->gensim)\n",
      "Collecting docutils<0.16,>=0.10 (from botocore<1.18.0,>=1.17.19->boto3->smart-open>=1.8.1->gensim)\n",
      "  Downloading https://files.pythonhosted.org/packages/22/cd/a6aa959dca619918ccb55023b4cb151949c64d4d5d55b3f4ffd7eee0c6e8/docutils-0.15.2-py3-none-any.whl (547kB)\n",
      "\u001b[K    100% |████████████████████████████████| 552kB 2.4MB/s eta 0:00:01\n",
      "\u001b[?25hInstalling collected packages: boto, jmespath, docutils, botocore, s3transfer, boto3, smart-open, gensim\n",
      "  Running setup.py install for smart-open ... \u001b[?25ldone\n",
      "\u001b[?25hSuccessfully installed boto-2.49.0 boto3-1.14.19 botocore-1.17.19 docutils-0.15.2 gensim-3.8.3 jmespath-0.10.0 s3transfer-0.3.3 smart-open-2.1.0\n"
     ]
    }
   ],
   "source": [
    "!pip3 install gensim"
   ]
  },
  {
   "cell_type": "code",
   "execution_count": 5,
   "metadata": {},
   "outputs": [],
   "source": [
    "from gensim.models import Word2Vec\n",
    "from gensim.models import KeyedVectors\n",
    "\n",
    "# word2vec = KeyedVectors.load_word2vec_format('../../new_disk/GoogleNews-vectors-negative300.bin', binary=True)\n",
    "new_model_w2v = KeyedVectors.load_word2vec_format(\"./word2vecUpdateModel/updatedWord2Vec.bin\",binary=True)"
   ]
  },
  {
   "cell_type": "code",
   "execution_count": 7,
   "metadata": {},
   "outputs": [
    {
     "data": {
      "text/plain": [
       "3001066"
      ]
     },
     "execution_count": 7,
     "metadata": {},
     "output_type": "execute_result"
    }
   ],
   "source": [
    "len(new_model_w2v.vocab)"
   ]
  },
  {
   "cell_type": "code",
   "execution_count": 17,
   "metadata": {},
   "outputs": [],
   "source": [
    "not_in_wv = set()\n",
    "for sentence in all_titles:\n",
    "    for w in sentence:\n",
    "        if w not in new_model_w2v.vocab:\n",
    "            not_in_wv.add(w)\n"
   ]
  },
  {
   "cell_type": "code",
   "execution_count": 18,
   "metadata": {},
   "outputs": [
    {
     "data": {
      "text/plain": [
       "1742"
      ]
     },
     "execution_count": 18,
     "metadata": {},
     "output_type": "execute_result"
    }
   ],
   "source": [
    "len(not_in_wv)"
   ]
  },
  {
   "cell_type": "code",
   "execution_count": 24,
   "metadata": {},
   "outputs": [],
   "source": [
    "from nltk.corpus import words\n",
    "existing_words = []\n",
    "non_existing_words = []\n",
    "i=0\n",
    "for w in not_in_wv:\n",
    "    if w in words.words():\n",
    "        existing_words.append(w)\n",
    "    else:\n",
    "        non_existing_words.append(w)"
   ]
  },
  {
   "cell_type": "code",
   "execution_count": 25,
   "metadata": {},
   "outputs": [
    {
     "name": "stdout",
     "output_type": "stream",
     "text": [
      "4\n"
     ]
    },
    {
     "data": {
      "text/plain": [
       "1738"
      ]
     },
     "execution_count": 25,
     "metadata": {},
     "output_type": "execute_result"
    }
   ],
   "source": [
    "print(len(set(existing_words)))\n",
    "len(set(non_existing_words))"
   ]
  },
  {
   "cell_type": "code",
   "execution_count": 26,
   "metadata": {},
   "outputs": [
    {
     "data": {
      "text/plain": [
       "['arango', 'archil', 'cornwallis', 'epicly']"
      ]
     },
     "execution_count": 26,
     "metadata": {},
     "output_type": "execute_result"
    }
   ],
   "source": [
    "existing_words"
   ]
  },
  {
   "cell_type": "markdown",
   "metadata": {},
   "source": [
    "Because it's pointless to update the Word2Vec model for just 4 words, we will consider them as unknown words"
   ]
  },
  {
   "cell_type": "code",
   "execution_count": 27,
   "metadata": {},
   "outputs": [],
   "source": [
    "non_existing_words = set(non_existing_words).union(set(existing_words))"
   ]
  },
  {
   "cell_type": "markdown",
   "metadata": {},
   "source": [
    "the non-existing words will be replaced with the word 'unknown_word' and will be represented as vector(unknown) + vector(word)"
   ]
  },
  {
   "cell_type": "code",
   "execution_count": 31,
   "metadata": {},
   "outputs": [],
   "source": [
    "all_titles_repl = []\n",
    "i=0\n",
    "for seq in all_titles:\n",
    "    i+=1\n",
    "    new_seq = []\n",
    "    for x in seq[:official_lenght]:\n",
    "        if x not in non_existing_words:\n",
    "            new_seq.append(x)\n",
    "        else:\n",
    "            new_seq.append(\"unknown_word\")\n",
    "    all_titles_repl.append(new_seq)\n",
    "    \n",
    "# [[x if x not in non_existing_words else 'unknown_word' for x in l[:official_lenght]] for l in all_text]"
   ]
  },
  {
   "cell_type": "code",
   "execution_count": 32,
   "metadata": {},
   "outputs": [],
   "source": [
    "# all_text_repl = load_pickle_file(\"text_data_prepared.pkl\")\n",
    "save_pickle_file(all_titles_repl,\"./WithTittles/titles_data_prepared.pkl\")"
   ]
  },
  {
   "cell_type": "code",
   "execution_count": 6,
   "metadata": {},
   "outputs": [],
   "source": [
    "unknown_word_vector_repr = word2vec.get_vector('unknown') + word2vec.get_vector('word')\n",
    "v1 = word2vec.get_vector('unknown')\n",
    "v2 = word2vec.get_vector('word')"
   ]
  },
  {
   "cell_type": "code",
   "execution_count": 8,
   "metadata": {},
   "outputs": [],
   "source": [
    "new_model_w2v.wv.save_word2vec_format(\"./word2vecUpdateModel/updatedWord2Vec.bin\",binary=True)"
   ]
  },
  {
   "cell_type": "markdown",
   "metadata": {},
   "source": [
    "<h2>Create embeding matrix</h2>"
   ]
  },
  {
   "cell_type": "code",
   "execution_count": 34,
   "metadata": {},
   "outputs": [
    {
     "name": "stderr",
     "output_type": "stream",
     "text": [
      "/usr/local/lib/python3.6/dist-packages/ipykernel_launcher.py:5: DeprecationWarning: Call to deprecated `wv` (Attribute will be removed in 4.0.0, use self instead).\n",
      "  \"\"\"\n",
      "/usr/local/lib/python3.6/dist-packages/ipykernel_launcher.py:12: DeprecationWarning: Call to deprecated `wv` (Attribute will be removed in 4.0.0, use self instead).\n",
      "  if sys.path[0] == '':\n"
     ]
    }
   ],
   "source": [
    "import numpy as np\n",
    "#creating empty word2index dictionary\n",
    "word2index = {}\n",
    "#creating empty embeding matrix\n",
    "vocab = new_model_w2v.wv.vocab\n",
    "\n",
    "embeding_matrix = np.zeros((len(vocab)+1,300))\n",
    "\n",
    "#filling the embeding matrix and word2index dictionary\n",
    "for idx,word in enumerate(list(vocab.keys())):\n",
    "    word2index[word] = idx\n",
    "    embeding_matrix[idx] = new_model_w2v.wv.get_vector(word)"
   ]
  },
  {
   "cell_type": "code",
   "execution_count": 35,
   "metadata": {},
   "outputs": [],
   "source": [
    "padding_value = len(embeding_matrix)-1\n",
    "#dummy vector for the padding value = 3001066\n",
    "embeding_matrix[padding_value] = np.zeros(300)"
   ]
  },
  {
   "cell_type": "code",
   "execution_count": 36,
   "metadata": {},
   "outputs": [
    {
     "data": {
      "text/plain": [
       "3001066"
      ]
     },
     "execution_count": 36,
     "metadata": {},
     "output_type": "execute_result"
    }
   ],
   "source": [
    "padding_value"
   ]
  },
  {
   "cell_type": "code",
   "execution_count": 37,
   "metadata": {},
   "outputs": [],
   "source": [
    "#save embeding matrix and word2index (we do not need anymore word2vec so it does not need to be loaded in memory)\n",
    "save_pickle_file(word2index,\"./WithTittles/word2index_titles\")\n",
    "save_pickle_file(embeding_matrix,\"./WithTittles/embeding_matrix\",protocol = 4)\n",
    "# del word2vec\n",
    "del new_model_w2v"
   ]
  },
  {
   "cell_type": "code",
   "execution_count": 3,
   "metadata": {},
   "outputs": [],
   "source": [
    "word2index = load_pickle_file(\"./WithTittles/word2index_titles\")\n",
    "embeding_matrix = load_pickle_file(\"./WithTittles/embeding_matrix\",protocol = 4)"
   ]
  },
  {
   "cell_type": "code",
   "execution_count": 38,
   "metadata": {},
   "outputs": [
    {
     "data": {
      "text/plain": [
       "3001067"
      ]
     },
     "execution_count": 38,
     "metadata": {},
     "output_type": "execute_result"
    }
   ],
   "source": [
    "len(embeding_matrix)"
   ]
  },
  {
   "cell_type": "markdown",
   "metadata": {},
   "source": [
    "<h2>Map sequences of words to sequences of indexes</h2>"
   ]
  },
  {
   "cell_type": "code",
   "execution_count": 39,
   "metadata": {},
   "outputs": [],
   "source": [
    "index_sequences = []\n",
    "for sequence in all_titles_repl:\n",
    "    new_sequence = []\n",
    "    for w in sequence:\n",
    "        new_sequence.append(word2index[w])\n",
    "    index_sequences.append(np.array(new_sequence))\n",
    "save_pickle_file(index_sequences,\"./WithTittles/index_sequences_titles.pkl\")"
   ]
  },
  {
   "cell_type": "code",
   "execution_count": 2,
   "metadata": {},
   "outputs": [],
   "source": [
    "import pickle\n",
    "def save_pickle_file(file,file_path,protocol=None):\n",
    "    with open(file_path,\"wb\") as f:\n",
    "        if protocol:\n",
    "            pickle.dump(file,f,protocol = protocol)\n",
    "        else:\n",
    "            pickle.dump(file,f)\n",
    "\n",
    "def load_pickle_file(file_path, protocol=None):\n",
    "     with open(file_path,\"rb\") as f:\n",
    "        if protocol:\n",
    "            return pickle.load(f)\n",
    "        else:\n",
    "            return pickle.load(f)\n"
   ]
  }
 ],
 "metadata": {
  "kernelspec": {
   "display_name": "Python 3",
   "language": "python",
   "name": "python3"
  },
  "language_info": {
   "codemirror_mode": {
    "name": "ipython",
    "version": 3
   },
   "file_extension": ".py",
   "mimetype": "text/x-python",
   "name": "python",
   "nbconvert_exporter": "python",
   "pygments_lexer": "ipython3",
   "version": "3.6.9"
  }
 },
 "nbformat": 4,
 "nbformat_minor": 4
}
