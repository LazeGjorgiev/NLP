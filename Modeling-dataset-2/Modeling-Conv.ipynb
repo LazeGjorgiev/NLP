{
 "cells": [
  {
   "cell_type": "code",
   "execution_count": 2,
   "metadata": {},
   "outputs": [],
   "source": [
    "embeding_matrix = load_pickle_file(\"./embeding_matrix\")\n",
    "word2index = load_pickle_file(\"./word2index\")\n",
    "index_sequences = load_pickle_file(\"./index_sequences.pkl\")\n",
    "labels = load_pickle_file(\"./labels\")\n",
    "SEQUENCE_LENGTH = 618\n",
    "VOCAB_SIZE = len(embeding_matrix)\n",
    "EMB_DIMENSION = 300\n",
    "VALIDATION_SPLIT = 0.1\n",
    "PAD_SEQ_VALUE = 3001066\n"
   ]
  },
  {
   "cell_type": "code",
   "execution_count": 3,
   "metadata": {},
   "outputs": [],
   "source": [
    "import numpy as np\n",
    "same_lenght_seq = [seq[:SEQUENCE_LENGTH].reshape(1,SEQUENCE_LENGTH) if len(seq) >= SEQUENCE_LENGTH \n",
    "                   else np.concatenate((seq,np.array([PAD_SEQ_VALUE] * (SEQUENCE_LENGTH - len(seq)))),axis = 0).reshape(1,SEQUENCE_LENGTH) \n",
    "                   for seq in index_sequences]\n",
    "same_lenght_seq = np.concatenate(same_lenght_seq,axis=0)\n"
   ]
  },
  {
   "cell_type": "code",
   "execution_count": 4,
   "metadata": {},
   "outputs": [
    {
     "name": "stderr",
     "output_type": "stream",
     "text": [
      "/usr/local/lib/python3.6/dist-packages/ipykernel_launcher.py:14: FutureWarning: arrays to stack must be passed as a \"sequence\" type such as list or tuple. Support for non-sequence iterables such as generators is deprecated as of NumPy 1.16 and will raise an error in the future.\n",
      "  \n"
     ]
    }
   ],
   "source": [
    "import random\n",
    "test_size = int(len(labels) * 0.2)\n",
    "true_labels = np.where(np.array(labels)==0)[0]\n",
    "start_index = true_labels[0]\n",
    "random_test_true_indexes = [int(x * len(true_labels)+start_index) for x in np.random.random(test_size//2)]\n",
    "random_test_false_indexes = [int(x * (len(labels) - len(true_labels))) for x in np.random.random(test_size//2)]\n",
    "x_test_indexes = random_test_true_indexes + random_test_false_indexes\n",
    "random.shuffle(x_test_indexes)\n",
    "\n",
    "x_train_indexes = [x for x in range(0,len(labels)) if x not in x_test_indexes]\n",
    "\n",
    "random.shuffle(x_train_indexes)\n",
    "\n",
    "labels = np.vstack(np.array([1,0]).reshape(1,2) if x == 0 else np.array([0,1]).reshape(1,2) for x in labels)\n",
    "\n",
    "y_test = np.array(labels)[x_test_indexes]\n",
    "y_train = np.array(labels)[x_train_indexes]\n",
    "\n",
    "x_train = same_lenght_seq[x_train_indexes]\n",
    "x_test = same_lenght_seq[x_test_indexes]"
   ]
  },
  {
   "cell_type": "code",
   "execution_count": 6,
   "metadata": {},
   "outputs": [],
   "source": []
  },
  {
   "cell_type": "markdown",
   "metadata": {},
   "source": [
    "Dataset split"
   ]
  },
  {
   "cell_type": "code",
   "execution_count": 4,
   "metadata": {},
   "outputs": [],
   "source": [
    "# from sklearn.model_selection import train_test_split\n",
    "\n",
    "# x_train, x_test, y_train, y_test = train_test_split(same_lenght_seq, labels, test_size=0.2, random_state=42,shuffle = True)"
   ]
  },
  {
   "cell_type": "code",
   "execution_count": 5,
   "metadata": {},
   "outputs": [],
   "source": [
    "data_size = len(x_train)\n",
    "perm = np.random.permutation(data_size)\n",
    "idx_train = perm[:int(data_size*(1-VALIDATION_SPLIT))]\n",
    "idx_val = perm[int(data_size*(1-VALIDATION_SPLIT)):]\n",
    "\n",
    "data_train = x_train[idx_train]\n",
    "labels_train = y_train[idx_train]\n",
    "\n",
    "data_val = x_train[idx_val]\n",
    "labels_val = y_train[idx_val]"
   ]
  },
  {
   "cell_type": "code",
   "execution_count": 13,
   "metadata": {},
   "outputs": [
    {
     "data": {
      "text/plain": [
       "(7380, 434)"
      ]
     },
     "execution_count": 13,
     "metadata": {},
     "output_type": "execute_result"
    }
   ],
   "source": [
    "data_train.shape"
   ]
  },
  {
   "cell_type": "markdown",
   "metadata": {},
   "source": [
    "<h1>Convolutional neural networks</h1>"
   ]
  },
  {
   "cell_type": "code",
   "execution_count": 6,
   "metadata": {
    "collapsed": true,
    "jupyter": {
     "outputs_hidden": true
    }
   },
   "outputs": [
    {
     "name": "stderr",
     "output_type": "stream",
     "text": [
      "/usr/local/lib/python3.6/dist-packages/tensorflow/python/framework/dtypes.py:523: FutureWarning: Passing (type, 1) or '1type' as a synonym of type is deprecated; in a future version of numpy, it will be understood as (type, (1,)) / '(1,)type'.\n",
      "  _np_qint8 = np.dtype([(\"qint8\", np.int8, 1)])\n",
      "/usr/local/lib/python3.6/dist-packages/tensorflow/python/framework/dtypes.py:524: FutureWarning: Passing (type, 1) or '1type' as a synonym of type is deprecated; in a future version of numpy, it will be understood as (type, (1,)) / '(1,)type'.\n",
      "  _np_quint8 = np.dtype([(\"quint8\", np.uint8, 1)])\n",
      "/usr/local/lib/python3.6/dist-packages/tensorflow/python/framework/dtypes.py:525: FutureWarning: Passing (type, 1) or '1type' as a synonym of type is deprecated; in a future version of numpy, it will be understood as (type, (1,)) / '(1,)type'.\n",
      "  _np_qint16 = np.dtype([(\"qint16\", np.int16, 1)])\n",
      "/usr/local/lib/python3.6/dist-packages/tensorflow/python/framework/dtypes.py:526: FutureWarning: Passing (type, 1) or '1type' as a synonym of type is deprecated; in a future version of numpy, it will be understood as (type, (1,)) / '(1,)type'.\n",
      "  _np_quint16 = np.dtype([(\"quint16\", np.uint16, 1)])\n",
      "/usr/local/lib/python3.6/dist-packages/tensorflow/python/framework/dtypes.py:527: FutureWarning: Passing (type, 1) or '1type' as a synonym of type is deprecated; in a future version of numpy, it will be understood as (type, (1,)) / '(1,)type'.\n",
      "  _np_qint32 = np.dtype([(\"qint32\", np.int32, 1)])\n",
      "/usr/local/lib/python3.6/dist-packages/tensorflow/python/framework/dtypes.py:532: FutureWarning: Passing (type, 1) or '1type' as a synonym of type is deprecated; in a future version of numpy, it will be understood as (type, (1,)) / '(1,)type'.\n",
      "  np_resource = np.dtype([(\"resource\", np.ubyte, 1)])\n",
      "/usr/local/lib/python3.6/dist-packages/tensorboard/compat/tensorflow_stub/dtypes.py:541: FutureWarning: Passing (type, 1) or '1type' as a synonym of type is deprecated; in a future version of numpy, it will be understood as (type, (1,)) / '(1,)type'.\n",
      "  _np_qint8 = np.dtype([(\"qint8\", np.int8, 1)])\n",
      "/usr/local/lib/python3.6/dist-packages/tensorboard/compat/tensorflow_stub/dtypes.py:542: FutureWarning: Passing (type, 1) or '1type' as a synonym of type is deprecated; in a future version of numpy, it will be understood as (type, (1,)) / '(1,)type'.\n",
      "  _np_quint8 = np.dtype([(\"quint8\", np.uint8, 1)])\n",
      "/usr/local/lib/python3.6/dist-packages/tensorboard/compat/tensorflow_stub/dtypes.py:543: FutureWarning: Passing (type, 1) or '1type' as a synonym of type is deprecated; in a future version of numpy, it will be understood as (type, (1,)) / '(1,)type'.\n",
      "  _np_qint16 = np.dtype([(\"qint16\", np.int16, 1)])\n",
      "/usr/local/lib/python3.6/dist-packages/tensorboard/compat/tensorflow_stub/dtypes.py:544: FutureWarning: Passing (type, 1) or '1type' as a synonym of type is deprecated; in a future version of numpy, it will be understood as (type, (1,)) / '(1,)type'.\n",
      "  _np_quint16 = np.dtype([(\"quint16\", np.uint16, 1)])\n",
      "/usr/local/lib/python3.6/dist-packages/tensorboard/compat/tensorflow_stub/dtypes.py:545: FutureWarning: Passing (type, 1) or '1type' as a synonym of type is deprecated; in a future version of numpy, it will be understood as (type, (1,)) / '(1,)type'.\n",
      "  _np_qint32 = np.dtype([(\"qint32\", np.int32, 1)])\n",
      "/usr/local/lib/python3.6/dist-packages/tensorboard/compat/tensorflow_stub/dtypes.py:550: FutureWarning: Passing (type, 1) or '1type' as a synonym of type is deprecated; in a future version of numpy, it will be understood as (type, (1,)) / '(1,)type'.\n",
      "  np_resource = np.dtype([(\"resource\", np.ubyte, 1)])\n"
     ]
    }
   ],
   "source": [
    "import tensorflow as tf\n",
    "from tensorflow import keras as tk\n",
    "from tensorflow.keras import layers as tfkl\n",
    "from sklearn.metrics import mean_squared_error,mean_absolute_error\n",
    "\n",
    "from tensorflow.keras.layers import Dense, Input, LSTM, Embedding, Dropout, Activation, Flatten, Conv1D, MaxPool1D, SpatialDropout1D, GlobalMaxPool1D, BatchNormalization\n",
    "from tensorflow.keras.models import Model\n",
    "# from tensorflow.keras.layers.normalization import BatchNormalization\n",
    "from tensorflow.keras.callbacks import EarlyStopping, ModelCheckpoint"
   ]
  },
  {
   "cell_type": "code",
   "execution_count": 7,
   "metadata": {},
   "outputs": [],
   "source": [
    "model_checkpoint = ModelCheckpoint(\"./Checkpoints\", save_best_only=True, save_weights_only=True)\n"
   ]
  },
  {
   "cell_type": "code",
   "execution_count": 7,
   "metadata": {},
   "outputs": [],
   "source": [
    "NUM_FILTERS = 20\n",
    "KERNEL_SIZE = 18\n",
    "rate_drop_lstm = 0.15\n",
    "rate_drop_lstm = 0.15\n",
    "conv_model = tk.Sequential()\n",
    "embedding_layer = Embedding(VOCAB_SIZE,\n",
    "        EMB_DIMENSION,\n",
    "        weights=[embeding_matrix],\n",
    "        input_length=SEQUENCE_LENGTH,\n",
    "        trainable=False)\n",
    "conv_model.add(embedding_layer)\n",
    "# conv_model.add(SpatialDropout1D())\n",
    "conv_model.add(Conv1D(NUM_FILTERS, KERNEL_SIZE, activation = 'relu',kernel_regularizer =tf.keras.regularizers.l2(l=0.01)))\n",
    "conv_model.add(Dropout(0.2))\n",
    "# conv_model.add(BatchNormalization())\n",
    "conv_model.add(MaxPool1D(pool_size = 12))\n",
    "conv_model.add(GlobalMaxPool1D())\n",
    "# conv_model.add(Flatten())\n",
    "conv_model.add(Dense(2,activation='sigmoid'))\n"
   ]
  },
  {
   "cell_type": "code",
   "execution_count": 8,
   "metadata": {},
   "outputs": [
    {
     "name": "stdout",
     "output_type": "stream",
     "text": [
      "Model: \"sequential\"\n",
      "_________________________________________________________________\n",
      "Layer (type)                 Output Shape              Param #   \n",
      "=================================================================\n",
      "embedding (Embedding)        (None, 618, 300)          900320100 \n",
      "_________________________________________________________________\n",
      "conv1d (Conv1D)              (None, 601, 20)           108020    \n",
      "_________________________________________________________________\n",
      "dropout (Dropout)            (None, 601, 20)           0         \n",
      "_________________________________________________________________\n",
      "max_pooling1d (MaxPooling1D) (None, 50, 20)            0         \n",
      "_________________________________________________________________\n",
      "global_max_pooling1d (Global (None, 20)                0         \n",
      "_________________________________________________________________\n",
      "dense (Dense)                (None, 2)                 42        \n",
      "=================================================================\n",
      "Total params: 900,428,162\n",
      "Trainable params: 108,062\n",
      "Non-trainable params: 900,320,100\n",
      "_________________________________________________________________\n"
     ]
    }
   ],
   "source": [
    "conv_model.summary()"
   ]
  },
  {
   "cell_type": "code",
   "execution_count": 21,
   "metadata": {},
   "outputs": [],
   "source": [
    "del conv_model"
   ]
  },
  {
   "cell_type": "code",
   "execution_count": 23,
   "metadata": {},
   "outputs": [],
   "source": [
    "conv_model.reset_states()"
   ]
  },
  {
   "cell_type": "code",
   "execution_count": 9,
   "metadata": {},
   "outputs": [],
   "source": [
    "opt = tk.optimizers.Adam(learning_rate=0.01)"
   ]
  },
  {
   "cell_type": "code",
   "execution_count": 10,
   "metadata": {},
   "outputs": [
    {
     "name": "stdout",
     "output_type": "stream",
     "text": [
      "Train on 11718 samples, validate on 1302 samples\n",
      "Epoch 1/10\n",
      "11718/11718 [==============================] - 48s 4ms/sample - loss: 0.5756 - acc: 0.7971 - val_loss: 0.5264 - val_acc: 0.8349\n",
      "Epoch 2/10\n",
      "11718/11718 [==============================] - 47s 4ms/sample - loss: 0.4734 - acc: 0.8722 - val_loss: 0.4880 - val_acc: 0.8952\n",
      "Epoch 3/10\n",
      "11718/11718 [==============================] - 47s 4ms/sample - loss: 0.4367 - acc: 0.9078 - val_loss: 0.4638 - val_acc: 0.9132\n",
      "Epoch 4/10\n",
      "11718/11718 [==============================] - 46s 4ms/sample - loss: 0.4043 - acc: 0.9222 - val_loss: 0.4468 - val_acc: 0.9075\n",
      "Epoch 5/10\n",
      "11718/11718 [==============================] - 48s 4ms/sample - loss: 0.4192 - acc: 0.9213 - val_loss: 0.4303 - val_acc: 0.9209\n",
      "Epoch 6/10\n",
      "11718/11718 [==============================] - 47s 4ms/sample - loss: 0.3961 - acc: 0.9278 - val_loss: 0.4302 - val_acc: 0.9255\n",
      "Epoch 7/10\n",
      "11718/11718 [==============================] - 49s 4ms/sample - loss: 0.4020 - acc: 0.9300 - val_loss: 0.4363 - val_acc: 0.9347\n",
      "Epoch 8/10\n",
      "11718/11718 [==============================] - 47s 4ms/sample - loss: 0.3935 - acc: 0.9374 - val_loss: 0.4211 - val_acc: 0.9447\n",
      "Epoch 9/10\n",
      "11718/11718 [==============================] - 47s 4ms/sample - loss: 0.4359 - acc: 0.9323 - val_loss: 0.4462 - val_acc: 0.9393\n",
      "Epoch 10/10\n",
      "11718/11718 [==============================] - 47s 4ms/sample - loss: 0.4253 - acc: 0.9370 - val_loss: 0.4257 - val_acc: 0.9247\n"
     ]
    }
   ],
   "source": [
    "conv_model.compile(loss='binary_crossentropy',\n",
    "        optimizer=opt,\n",
    "        metrics=['acc'])\n",
    "history2 = conv_model.fit(data_train,labels_train,epochs = 10,batch_size = 256, validation_data = [data_val,labels_val],shuffle=True)"
   ]
  },
  {
   "cell_type": "code",
   "execution_count": 14,
   "metadata": {},
   "outputs": [
    {
     "name": "stdout",
     "output_type": "stream",
     "text": [
      "Train on 11718 samples, validate on 1302 samples\n",
      "Epoch 1/10\n",
      "11718/11718 [==============================] - 48s 4ms/sample - loss: 0.3972 - acc: 0.9434 - val_loss: 0.4076 - val_acc: 0.9485\n",
      "Epoch 2/10\n",
      "11718/11718 [==============================] - 47s 4ms/sample - loss: 0.3949 - acc: 0.9440 - val_loss: 0.4153 - val_acc: 0.9409\n",
      "Epoch 3/10\n",
      "11718/11718 [==============================] - 49s 4ms/sample - loss: 0.4063 - acc: 0.9403 - val_loss: 0.4336 - val_acc: 0.9424\n",
      "Epoch 4/10\n",
      "11718/11718 [==============================] - 47s 4ms/sample - loss: 0.4117 - acc: 0.9438 - val_loss: 0.4288 - val_acc: 0.9389\n",
      "Epoch 5/10\n",
      "11718/11718 [==============================] - 35s 3ms/sample - loss: 0.4083 - acc: 0.9423 - val_loss: 0.4735 - val_acc: 0.9401\n",
      "Epoch 6/10\n",
      "11718/11718 [==============================] - 35s 3ms/sample - loss: 0.4214 - acc: 0.9439 - val_loss: 0.4278 - val_acc: 0.9462\n",
      "Epoch 7/10\n",
      "11718/11718 [==============================] - 37s 3ms/sample - loss: 0.3993 - acc: 0.9444 - val_loss: 0.3923 - val_acc: 0.9416\n",
      "Epoch 8/10\n",
      "11718/11718 [==============================] - 37s 3ms/sample - loss: 0.3965 - acc: 0.9458 - val_loss: 0.4183 - val_acc: 0.9416\n",
      "Epoch 9/10\n",
      "11718/11718 [==============================] - 35s 3ms/sample - loss: 0.3936 - acc: 0.9496 - val_loss: 0.4266 - val_acc: 0.9505\n",
      "Epoch 10/10\n",
      "11718/11718 [==============================] - 36s 3ms/sample - loss: 0.4151 - acc: 0.9485 - val_loss: 0.4993 - val_acc: 0.9501\n"
     ]
    }
   ],
   "source": [
    "history2 = conv_model.fit(data_train,labels_train,epochs = 10,batch_size = 256, validation_data = [data_val,labels_val],shuffle=True)"
   ]
  },
  {
   "cell_type": "code",
   "execution_count": 9,
   "metadata": {},
   "outputs": [
    {
     "name": "stdout",
     "output_type": "stream",
     "text": [
      "/home/gorgiev_laze/NLP/Modeling-dataset-2\n"
     ]
    }
   ],
   "source": [
    "import os\n",
    "print(os.getcwd())"
   ]
  },
  {
   "cell_type": "code",
   "execution_count": 21,
   "metadata": {},
   "outputs": [],
   "source": [
    "conv_model.save(\"./Checkpoints/conv_model2.h5\")"
   ]
  },
  {
   "cell_type": "code",
   "execution_count": 22,
   "metadata": {},
   "outputs": [],
   "source": [
    "conv_model.save_weights(\"./Checkpoints/conv_weights2\")"
   ]
  },
  {
   "cell_type": "code",
   "execution_count": 7,
   "metadata": {},
   "outputs": [],
   "source": [
    "conv_model = tf.keras.models.load_model(\"./Checkpoints/conv_model.h5\")"
   ]
  },
  {
   "cell_type": "code",
   "execution_count": 10,
   "metadata": {},
   "outputs": [
    {
     "name": "stdout",
     "output_type": "stream",
     "text": [
      "Model: \"sequential_4\"\n",
      "_________________________________________________________________\n",
      "Layer (type)                 Output Shape              Param #   \n",
      "=================================================================\n",
      "embedding_4 (Embedding)      (None, 434, 300)          900320100 \n",
      "_________________________________________________________________\n",
      "conv1d_3 (Conv1D)            (None, 423, 12)           43212     \n",
      "_________________________________________________________________\n",
      "dropout_3 (Dropout)          (None, 423, 12)           0         \n",
      "_________________________________________________________________\n",
      "max_pooling1d_3 (MaxPooling1 (None, 28, 12)            0         \n",
      "_________________________________________________________________\n",
      "global_max_pooling1d_3 (Glob (None, 12)                0         \n",
      "_________________________________________________________________\n",
      "dense_3 (Dense)              (None, 2)                 26        \n",
      "=================================================================\n",
      "Total params: 900,363,338\n",
      "Trainable params: 43,238\n",
      "Non-trainable params: 900,320,100\n",
      "_________________________________________________________________\n"
     ]
    }
   ],
   "source": [
    "conv_model.summary()"
   ]
  },
  {
   "cell_type": "code",
   "execution_count": 18,
   "metadata": {},
   "outputs": [
    {
     "name": "stdout",
     "output_type": "stream",
     "text": [
      "F1-score : 0.9414957780458384\n",
      "Accuracy-score : 0.9387239418825016\n",
      "Precision : 0.9007501442585113\n",
      "Recall  : 0.9861023373341756\n"
     ]
    }
   ],
   "source": [
    "from sklearn.metrics import accuracy_score\n",
    "from sklearn.metrics import f1_score\n",
    "from sklearn.metrics import precision_score\n",
    "from sklearn.metrics import recall_score\n",
    "\n",
    "pred = conv_model.predict(x_test)\n",
    "pred = [np.argmax(x) for x in pred]\n",
    "\n",
    "print(f\"F1-score : {f1_score([np.argmax(x) for x in y_test],pred,pos_label=1)}\")\n",
    "print(f\"Accuracy-score : {accuracy_score([np.argmax(x) for x in y_test],pred)}\")\n",
    "\n",
    "print(f\"Precision : {precision_score([np.argmax(x) for x in y_test],pred,pos_label = 1)}\")\n",
    "print(f\"Recall  : {recall_score([np.argmax(x) for x in y_test],pred,pos_label = 1)}\")"
   ]
  },
  {
   "cell_type": "code",
   "execution_count": 17,
   "metadata": {},
   "outputs": [
    {
     "data": {
      "text/plain": [
       "0.9387239418825015"
      ]
     },
     "execution_count": 17,
     "metadata": {},
     "output_type": "execute_result"
    }
   ],
   "source": [
    "from sklearn.metrics import roc_auc_score\n",
    "roc_auc_score([np.argmax(x) for x in y_test],pred)"
   ]
  },
  {
   "cell_type": "code",
   "execution_count": 29,
   "metadata": {},
   "outputs": [],
   "source": [
    "from sklearn.metrics import accuracy_score\n",
    "\n",
    "pred = conv_model.predict(x_test)\n",
    "pred = [np.argmax(x) for x in pred]\n",
    "\n"
   ]
  },
  {
   "cell_type": "code",
   "execution_count": 30,
   "metadata": {},
   "outputs": [
    {
     "data": {
      "text/plain": [
       "0.9362930077691454"
      ]
     },
     "execution_count": 30,
     "metadata": {},
     "output_type": "execute_result"
    }
   ],
   "source": [
    "from sklearn.metrics import f1_score\n",
    "f1_score([np.argmax(x) for x in y_test],pred,pos_label=1)"
   ]
  },
  {
   "cell_type": "code",
   "execution_count": 31,
   "metadata": {},
   "outputs": [
    {
     "data": {
      "text/plain": [
       "0.9093779602147143"
      ]
     },
     "execution_count": 31,
     "metadata": {},
     "output_type": "execute_result"
    }
   ],
   "source": [
    "accuracy_score([np.argmax(x) for x in y_test],pred)"
   ]
  },
  {
   "cell_type": "code",
   "execution_count": 32,
   "metadata": {},
   "outputs": [
    {
     "data": {
      "text/plain": [
       "0.8797661587489404"
      ]
     },
     "execution_count": 32,
     "metadata": {},
     "output_type": "execute_result"
    }
   ],
   "source": [
    "from sklearn.metrics import roc_auc_score\n",
    "roc_auc_score([np.argmax(x) for x in y_test],pred)"
   ]
  },
  {
   "cell_type": "code",
   "execution_count": 34,
   "metadata": {},
   "outputs": [
    {
     "name": "stdout",
     "output_type": "stream",
     "text": [
      "Precision : 0.8851894374282434\n",
      "Recall  : 0.8048016701461378\n"
     ]
    }
   ],
   "source": [
    "from sklearn.metrics import precision_score\n",
    "from sklearn.metrics import recall_score\n",
    "\n",
    "\n",
    "print(f\"Precision : {precision_score([np.argmax(x) for x in y_test],pred,pos_label = 0)}\")\n",
    "print(f\"Recall  : {recall_score([np.argmax(x) for x in y_test],pred,pos_label = 0)}\")"
   ]
  },
  {
   "cell_type": "code",
   "execution_count": 1,
   "metadata": {},
   "outputs": [],
   "source": [
    "import pickle\n",
    "def save_pickle_file(file,file_path,protocol=None):\n",
    "    with open(file_path,\"wb\") as f:\n",
    "        if protocol:\n",
    "            pickle.dump(file,f,protocol = protocol)\n",
    "        else:\n",
    "            pickle.dump(file,f)\n",
    "\n",
    "def load_pickle_file(file_path, protocol=None):\n",
    "     with open(file_path,\"rb\") as f:\n",
    "        if protocol:\n",
    "            return pickle.load(f)\n",
    "        else:\n",
    "            return pickle.load(f)\n"
   ]
  },
  {
   "cell_type": "code",
   "execution_count": null,
   "metadata": {},
   "outputs": [],
   "source": []
  }
 ],
 "metadata": {
  "kernelspec": {
   "display_name": "Python 3",
   "language": "python",
   "name": "python3"
  },
  "language_info": {
   "codemirror_mode": {
    "name": "ipython",
    "version": 3
   },
   "file_extension": ".py",
   "mimetype": "text/x-python",
   "name": "python",
   "nbconvert_exporter": "python",
   "pygments_lexer": "ipython3",
   "version": "3.6.9"
  }
 },
 "nbformat": 4,
 "nbformat_minor": 4
}
